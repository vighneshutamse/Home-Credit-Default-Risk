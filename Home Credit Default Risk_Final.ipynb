{
 "cells": [
  {
   "cell_type": "code",
   "execution_count": 1,
   "metadata": {},
   "outputs": [],
   "source": [
    "import numpy as np\n",
    "import pandas as pd\n",
    "import warnings\n",
    "#from sklearn.preprocessing import MinMaxScaler, Imputer\n",
    "from sklearn.linear_model import LogisticRegression\n",
    "from sklearn.model_selection import train_test_split\n",
    "import xgboost as xgb\n",
    "import seaborn as sns\n",
    "import matplotlib.pyplot as plt\n",
    "%matplotlib inline\n",
    "import os"
   ]
  },
  {
   "cell_type": "code",
   "execution_count": 2,
   "metadata": {},
   "outputs": [],
   "source": [
    "def reduce_mem_usage(df):\n",
    "    \"\"\" iterate through all the columns of a dataframe and modify the data type\n",
    "        to reduce memory usage.        \n",
    "       \n",
    "        1. Iterate over every column\n",
    "        2. Determine if the column is numeric\n",
    "        3. Determine if the column can be represented by an integer\n",
    "        4. Find the min and the max value\n",
    "        5. Determine and apply the smallest datatype that can fit the range of values\n",
    "\n",
    "    \"\"\"\n",
    "    start_mem = df.memory_usage().sum() / 1024**2\n",
    "    print('Memory usage of dataframe is {:.2f} MB'.format(start_mem))\n",
    "    \n",
    "    for col in df.columns:\n",
    "        col_type = df[col].dtype\n",
    "        \n",
    "        if col_type != object:\n",
    "            c_min = df[col].min()\n",
    "            c_max = df[col].max()\n",
    "            if str(col_type)[:3] == 'int':\n",
    "                if c_min > np.iinfo(np.int8).min and c_max < np.iinfo(np.int8).max:\n",
    "                    df[col] = df[col].astype(np.int8)\n",
    "                elif c_min > np.iinfo(np.int16).min and c_max < np.iinfo(np.int16).max:\n",
    "                    df[col] = df[col].astype(np.int16)\n",
    "                elif c_min > np.iinfo(np.int32).min and c_max < np.iinfo(np.int32).max:\n",
    "                    df[col] = df[col].astype(np.int32)\n",
    "                elif c_min > np.iinfo(np.int64).min and c_max < np.iinfo(np.int64).max:\n",
    "                    df[col] = df[col].astype(np.int64)  \n",
    "            else:\n",
    "                if c_min > np.finfo(np.float16).min and c_max < np.finfo(np.float16).max:\n",
    "                    df[col] = df[col].astype(np.float16)\n",
    "                elif c_min > np.finfo(np.float32).min and c_max < np.finfo(np.float32).max:\n",
    "                    df[col] = df[col].astype(np.float32)\n",
    "                else:\n",
    "                    df[col] = df[col].astype(np.float64)\n",
    "        else:\n",
    "            df[col] = df[col].astype('category')\n",
    "\n",
    "    end_mem = df.memory_usage().sum() / 1024**2\n",
    "    print('Memory usage after optimization is: {:.2f} MB'.format(end_mem))\n",
    "    print('Decreased by {:.1f}%'.format(100 * (start_mem - end_mem) / start_mem))\n",
    "    \n",
    "    return df\n",
    "\n",
    "\n",
    "def import_data(file):\n",
    "    \"\"\"create a dataframe and optimize its memory usage\"\"\"\n",
    "    df = pd.read_csv(file, parse_dates=True, keep_date_col=True)\n",
    "    df = reduce_mem_usage(df)\n",
    "    return df\n"
   ]
  },
  {
   "cell_type": "code",
   "execution_count": 3,
   "metadata": {},
   "outputs": [
    {
     "name": "stdout",
     "output_type": "stream",
     "text": [
      "Memory usage of dataframe is 222.62 MB\n",
      "Memory usage after optimization is: 78.57 MB\n",
      "Decreased by 64.7%\n",
      "Memory usage of dataframe is 624.85 MB\n",
      "Memory usage after optimization is: 156.21 MB\n",
      "Decreased by 75.0%\n",
      "Memory usage of dataframe is 471.48 MB\n",
      "Memory usage after optimization is: 130.62 MB\n",
      "Decreased by 72.3%\n",
      "Memory usage of dataframe is 673.88 MB\n",
      "Memory usage after optimization is: 263.69 MB\n",
      "Decreased by 60.9%\n",
      "Memory usage of dataframe is 830.41 MB\n",
      "Memory usage after optimization is: 311.40 MB\n",
      "Decreased by 62.5%\n",
      "Memory usage of dataframe is 610.43 MB\n",
      "Memory usage after optimization is: 171.69 MB\n",
      "Decreased by 71.9%\n"
     ]
    }
   ],
   "source": [
    "#train = import_data('D:\\\\Sem 2\\\\Finance\\\\Assignment\\\\home-credit-default-risk\\\\application_train.csv')\n",
    "#test = import_data('D:\\\\Sem 2\\\\Finance\\\\Assignment\\\\home-credit-default-risk\\\\application_test.csv')\n",
    "bureau = import_data('D:\\\\Sem 2\\\\Finance\\\\Assignment\\\\home-credit-default-risk\\\\bureau.csv')\n",
    "bureau_balance = import_data('D:\\\\Sem 2\\\\Finance\\\\Assignment\\\\home-credit-default-risk\\\\bureau_balance.csv')\n",
    "previous_application = import_data('D:\\\\Sem 2\\\\Finance\\\\Assignment\\\\home-credit-default-risk\\\\previous_application.csv')\n",
    "credit_card_balance = import_data('D:\\\\Sem 2\\\\Finance\\\\Assignment\\\\home-credit-default-risk\\\\credit_card_balance.csv')\n",
    "installments_payments = import_data('D:\\\\Sem 2\\\\Finance\\\\Assignment\\\\home-credit-default-risk\\\\installments_payments.csv')\n",
    "POS_CASH_balance = import_data('D:\\\\Sem 2\\\\Finance\\\\Assignment\\\\home-credit-default-risk\\\\POS_CASH_balance.csv')"
   ]
  },
  {
   "cell_type": "code",
   "execution_count": 4,
   "metadata": {},
   "outputs": [],
   "source": [
    "train = pd.read_csv('D:\\\\Sem 2\\\\Finance\\\\Assignment\\\\home-credit-default-risk\\\\application_train.csv')\n",
    "test = pd.read_csv('D:\\\\Sem 2\\\\Finance\\\\Assignment\\\\home-credit-default-risk\\\\application_test.csv')"
   ]
  },
  {
   "cell_type": "code",
   "execution_count": 5,
   "metadata": {},
   "outputs": [
    {
     "data": {
      "text/plain": [
       "0    282686\n",
       "1     24825\n",
       "Name: TARGET, dtype: int64"
      ]
     },
     "execution_count": 5,
     "metadata": {},
     "output_type": "execute_result"
    }
   ],
   "source": [
    "train.TARGET.value_counts()"
   ]
  },
  {
   "cell_type": "code",
   "execution_count": 6,
   "metadata": {},
   "outputs": [
    {
     "data": {
      "text/plain": [
       "<matplotlib.axes._subplots.AxesSubplot at 0x2b3068aae10>"
      ]
     },
     "execution_count": 6,
     "metadata": {},
     "output_type": "execute_result"
    },
    {
     "data": {
      "image/png": "[encoded data removed]",
      "text/plain": [
       "<Figure size 432x288 with 1 Axes>"
      ]
     },
     "metadata": {
      "needs_background": "light"
     },
     "output_type": "display_data"
    }
   ],
   "source": [
    "train.TARGET.plot.hist(color = 'b')"
   ]
  },
  {
   "cell_type": "code",
   "execution_count": 7,
   "metadata": {},
   "outputs": [
    {
     "data": {
      "text/plain": [
       "24.39594190712943"
      ]
     },
     "execution_count": 7,
     "metadata": {},
     "output_type": "execute_result"
    }
   ],
   "source": [
    "sum(train.isna().sum())/(train.shape[0]*train.shape[1])*100"
   ]
  },
  {
   "cell_type": "code",
   "execution_count": 8,
   "metadata": {},
   "outputs": [
    {
     "data": {
      "text/plain": [
       "COMMONAREA_MEDI             69.9\n",
       "COMMONAREA_AVG              69.9\n",
       "COMMONAREA_MODE             69.9\n",
       "NONLIVINGAPARTMENTS_MODE    69.4\n",
       "NONLIVINGAPARTMENTS_MEDI    69.4\n",
       "NONLIVINGAPARTMENTS_AVG     69.4\n",
       "LIVINGAPARTMENTS_MEDI       68.4\n",
       "LIVINGAPARTMENTS_MODE       68.4\n",
       "FONDKAPREMONT_MODE          68.4\n",
       "LIVINGAPARTMENTS_AVG        68.4\n",
       "dtype: float64"
      ]
     },
     "execution_count": 8,
     "metadata": {},
     "output_type": "execute_result"
    }
   ],
   "source": [
    "train_NA = (np.round((train.isna().sum()/len(train)),3)).sort_values(ascending = False)*100\n",
    "train_NA = train_NA.sort_values(ascending = False)\n",
    "train_NA.head(10)"
   ]
  },
  {
   "cell_type": "code",
   "execution_count": 9,
   "metadata": {},
   "outputs": [
    {
     "data": {
      "text/plain": [
       "Series([], dtype: float64)"
      ]
     },
     "execution_count": 9,
     "metadata": {},
     "output_type": "execute_result"
    }
   ],
   "source": [
    "# what about subcategories within categorical data\n",
    "train.select_dtypes('category').apply(pd.Series.nunique, axis = 0)"
   ]
  },
  {
   "cell_type": "code",
   "execution_count": 10,
   "metadata": {},
   "outputs": [
    {
     "data": {
      "text/plain": [
       "SK_ID_CURR                        0\n",
       "TARGET                            0\n",
       "NAME_CONTRACT_TYPE                0\n",
       "CODE_GENDER                       0\n",
       "FLAG_OWN_CAR                      0\n",
       "                              ...  \n",
       "AMT_REQ_CREDIT_BUREAU_DAY     41519\n",
       "AMT_REQ_CREDIT_BUREAU_WEEK    41519\n",
       "AMT_REQ_CREDIT_BUREAU_MON     41519\n",
       "AMT_REQ_CREDIT_BUREAU_QRT     41519\n",
       "AMT_REQ_CREDIT_BUREAU_YEAR    41519\n",
       "Length: 122, dtype: int64"
      ]
     },
     "execution_count": 10,
     "metadata": {},
     "output_type": "execute_result"
    }
   ],
   "source": [
    "train.isna().sum()"
   ]
  },
  {
   "cell_type": "markdown",
   "metadata": {},
   "source": [
    "# Dealing with missing values"
   ]
  },
  {
   "cell_type": "markdown",
   "metadata": {},
   "source": [
    "### 1.POS_CASH_balance"
   ]
  },
  {
   "cell_type": "code",
   "execution_count": 11,
   "metadata": {},
   "outputs": [
    {
     "data": {
      "text/plain": [
       "SK_ID_PREV                   0\n",
       "SK_ID_CURR                   0\n",
       "MONTHS_BALANCE               0\n",
       "CNT_INSTALMENT           26071\n",
       "CNT_INSTALMENT_FUTURE    26087\n",
       "NAME_CONTRACT_STATUS         0\n",
       "SK_DPD                       0\n",
       "SK_DPD_DEF                   0\n",
       "dtype: int64"
      ]
     },
     "execution_count": 11,
     "metadata": {},
     "output_type": "execute_result"
    }
   ],
   "source": [
    "POS_CASH_balance.isnull().sum()"
   ]
  },
  {
   "cell_type": "code",
   "execution_count": 12,
   "metadata": {},
   "outputs": [
    {
     "data": {
      "text/plain": [
       "SK_ID_PREV               0\n",
       "SK_ID_CURR               0\n",
       "MONTHS_BALANCE           0\n",
       "CNT_INSTALMENT           0\n",
       "CNT_INSTALMENT_FUTURE    0\n",
       "NAME_CONTRACT_STATUS     0\n",
       "SK_DPD                   0\n",
       "SK_DPD_DEF               0\n",
       "dtype: int64"
      ]
     },
     "execution_count": 12,
     "metadata": {},
     "output_type": "execute_result"
    }
   ],
   "source": [
    "POS_CASH_balance_clean = POS_CASH_balance.dropna(how = 'any',axis = 0)\n",
    "POS_CASH_balance_clean.isnull().sum()"
   ]
  },
  {
   "cell_type": "markdown",
   "metadata": {},
   "source": [
    "### 2.Installments Payments"
   ]
  },
  {
   "cell_type": "code",
   "execution_count": 13,
   "metadata": {},
   "outputs": [
    {
     "data": {
      "text/plain": [
       "SK_ID_PREV                   0\n",
       "SK_ID_CURR                   0\n",
       "NUM_INSTALMENT_VERSION       0\n",
       "NUM_INSTALMENT_NUMBER        0\n",
       "DAYS_INSTALMENT              0\n",
       "DAYS_ENTRY_PAYMENT        2905\n",
       "AMT_INSTALMENT               0\n",
       "AMT_PAYMENT               2905\n",
       "dtype: int64"
      ]
     },
     "execution_count": 13,
     "metadata": {},
     "output_type": "execute_result"
    }
   ],
   "source": [
    "installments_payments.isnull().sum()"
   ]
  },
  {
   "cell_type": "code",
   "execution_count": 14,
   "metadata": {},
   "outputs": [
    {
     "name": "stderr",
     "output_type": "stream",
     "text": [
      "C:\\Users\\91808\\Anaconda3\\lib\\site-packages\\ipykernel_launcher.py:1: SettingWithCopyWarning: \n",
      "A value is trying to be set on a copy of a slice from a DataFrame\n",
      "\n",
      "See the caveats in the documentation: http://pandas.pydata.org/pandas-docs/stable/user_guide/indexing.html#returning-a-view-versus-a-copy\n",
      "  \"\"\"Entry point for launching an IPython kernel.\n",
      "C:\\Users\\91808\\Anaconda3\\lib\\site-packages\\ipykernel_launcher.py:2: SettingWithCopyWarning: \n",
      "A value is trying to be set on a copy of a slice from a DataFrame\n",
      "\n",
      "See the caveats in the documentation: http://pandas.pydata.org/pandas-docs/stable/user_guide/indexing.html#returning-a-view-versus-a-copy\n",
      "  \n"
     ]
    }
   ],
   "source": [
    "installments_payments.DAYS_ENTRY_PAYMENT[installments_payments.DAYS_ENTRY_PAYMENT.isnull()] = installments_payments.DAYS_ENTRY_PAYMENT.median()\n",
    "installments_payments.AMT_PAYMENT[installments_payments.AMT_PAYMENT.isnull()] = installments_payments.AMT_PAYMENT.median()"
   ]
  },
  {
   "cell_type": "markdown",
   "metadata": {},
   "source": [
    "### 3.Credit Card Balance"
   ]
  },
  {
   "cell_type": "code",
   "execution_count": 15,
   "metadata": {},
   "outputs": [
    {
     "name": "stderr",
     "output_type": "stream",
     "text": [
      "C:\\Users\\91808\\Anaconda3\\lib\\site-packages\\ipykernel_launcher.py:1: SettingWithCopyWarning: \n",
      "A value is trying to be set on a copy of a slice from a DataFrame\n",
      "\n",
      "See the caveats in the documentation: http://pandas.pydata.org/pandas-docs/stable/user_guide/indexing.html#returning-a-view-versus-a-copy\n",
      "  \"\"\"Entry point for launching an IPython kernel.\n",
      "C:\\Users\\91808\\Anaconda3\\lib\\site-packages\\ipykernel_launcher.py:2: SettingWithCopyWarning: \n",
      "A value is trying to be set on a copy of a slice from a DataFrame\n",
      "\n",
      "See the caveats in the documentation: http://pandas.pydata.org/pandas-docs/stable/user_guide/indexing.html#returning-a-view-versus-a-copy\n",
      "  \n",
      "C:\\Users\\91808\\Anaconda3\\lib\\site-packages\\ipykernel_launcher.py:3: SettingWithCopyWarning: \n",
      "A value is trying to be set on a copy of a slice from a DataFrame\n",
      "\n",
      "See the caveats in the documentation: http://pandas.pydata.org/pandas-docs/stable/user_guide/indexing.html#returning-a-view-versus-a-copy\n",
      "  This is separate from the ipykernel package so we can avoid doing imports until\n",
      "C:\\Users\\91808\\Anaconda3\\lib\\site-packages\\ipykernel_launcher.py:4: SettingWithCopyWarning: \n",
      "A value is trying to be set on a copy of a slice from a DataFrame\n",
      "\n",
      "See the caveats in the documentation: http://pandas.pydata.org/pandas-docs/stable/user_guide/indexing.html#returning-a-view-versus-a-copy\n",
      "  after removing the cwd from sys.path.\n",
      "C:\\Users\\91808\\Anaconda3\\lib\\site-packages\\ipykernel_launcher.py:5: SettingWithCopyWarning: \n",
      "A value is trying to be set on a copy of a slice from a DataFrame\n",
      "\n",
      "See the caveats in the documentation: http://pandas.pydata.org/pandas-docs/stable/user_guide/indexing.html#returning-a-view-versus-a-copy\n",
      "  \"\"\"\n",
      "C:\\Users\\91808\\Anaconda3\\lib\\site-packages\\ipykernel_launcher.py:6: SettingWithCopyWarning: \n",
      "A value is trying to be set on a copy of a slice from a DataFrame\n",
      "\n",
      "See the caveats in the documentation: http://pandas.pydata.org/pandas-docs/stable/user_guide/indexing.html#returning-a-view-versus-a-copy\n",
      "  \n",
      "C:\\Users\\91808\\Anaconda3\\lib\\site-packages\\ipykernel_launcher.py:7: SettingWithCopyWarning: \n",
      "A value is trying to be set on a copy of a slice from a DataFrame\n",
      "\n",
      "See the caveats in the documentation: http://pandas.pydata.org/pandas-docs/stable/user_guide/indexing.html#returning-a-view-versus-a-copy\n",
      "  import sys\n",
      "C:\\Users\\91808\\Anaconda3\\lib\\site-packages\\ipykernel_launcher.py:8: SettingWithCopyWarning: \n",
      "A value is trying to be set on a copy of a slice from a DataFrame\n",
      "\n",
      "See the caveats in the documentation: http://pandas.pydata.org/pandas-docs/stable/user_guide/indexing.html#returning-a-view-versus-a-copy\n",
      "  \n"
     ]
    }
   ],
   "source": [
    "credit_card_balance.AMT_DRAWINGS_ATM_CURRENT[credit_card_balance.AMT_DRAWINGS_ATM_CURRENT.isnull()] = credit_card_balance.AMT_DRAWINGS_ATM_CURRENT.median()\n",
    "credit_card_balance.AMT_DRAWINGS_OTHER_CURRENT[credit_card_balance.AMT_DRAWINGS_OTHER_CURRENT.isnull()] = credit_card_balance.AMT_DRAWINGS_OTHER_CURRENT.median()\n",
    "credit_card_balance.AMT_DRAWINGS_POS_CURRENT[credit_card_balance.AMT_DRAWINGS_POS_CURRENT.isnull()] = credit_card_balance.AMT_DRAWINGS_POS_CURRENT.median()\n",
    "credit_card_balance.CNT_DRAWINGS_ATM_CURRENT[credit_card_balance.CNT_DRAWINGS_ATM_CURRENT.isnull()] = credit_card_balance.CNT_DRAWINGS_ATM_CURRENT.median()\n",
    "credit_card_balance.CNT_DRAWINGS_OTHER_CURRENT[credit_card_balance.CNT_DRAWINGS_OTHER_CURRENT.isnull()] = credit_card_balance.CNT_DRAWINGS_OTHER_CURRENT.median()\n",
    "credit_card_balance.CNT_DRAWINGS_POS_CURRENT[credit_card_balance.CNT_DRAWINGS_POS_CURRENT.isnull()] = credit_card_balance.CNT_DRAWINGS_POS_CURRENT.median()\n",
    "credit_card_balance.AMT_INST_MIN_REGULARITY[credit_card_balance.AMT_INST_MIN_REGULARITY.isnull()] = credit_card_balance.AMT_INST_MIN_REGULARITY.median()\n",
    "credit_card_balance.CNT_INSTALMENT_MATURE_CUM[credit_card_balance.CNT_INSTALMENT_MATURE_CUM.isnull()] = credit_card_balance.CNT_INSTALMENT_MATURE_CUM.median()\n",
    "credit_card_balance=credit_card_balance.drop(\"AMT_PAYMENT_CURRENT\",axis=1)"
   ]
  },
  {
   "cell_type": "code",
   "execution_count": 16,
   "metadata": {},
   "outputs": [
    {
     "data": {
      "text/plain": [
       "SK_ID_PREV                    0\n",
       "SK_ID_CURR                    0\n",
       "MONTHS_BALANCE                0\n",
       "AMT_BALANCE                   0\n",
       "AMT_CREDIT_LIMIT_ACTUAL       0\n",
       "AMT_DRAWINGS_ATM_CURRENT      0\n",
       "AMT_DRAWINGS_CURRENT          0\n",
       "AMT_DRAWINGS_OTHER_CURRENT    0\n",
       "AMT_DRAWINGS_POS_CURRENT      0\n",
       "AMT_INST_MIN_REGULARITY       0\n",
       "AMT_PAYMENT_TOTAL_CURRENT     0\n",
       "AMT_RECEIVABLE_PRINCIPAL      0\n",
       "AMT_RECIVABLE                 0\n",
       "AMT_TOTAL_RECEIVABLE          0\n",
       "CNT_DRAWINGS_ATM_CURRENT      0\n",
       "CNT_DRAWINGS_CURRENT          0\n",
       "CNT_DRAWINGS_OTHER_CURRENT    0\n",
       "CNT_DRAWINGS_POS_CURRENT      0\n",
       "CNT_INSTALMENT_MATURE_CUM     0\n",
       "NAME_CONTRACT_STATUS          0\n",
       "SK_DPD                        0\n",
       "SK_DPD_DEF                    0\n",
       "dtype: int64"
      ]
     },
     "execution_count": 16,
     "metadata": {},
     "output_type": "execute_result"
    }
   ],
   "source": [
    "credit_card_balance.isnull().sum()"
   ]
  },
  {
   "cell_type": "markdown",
   "metadata": {},
   "source": [
    "### 4.Bureau"
   ]
  },
  {
   "cell_type": "code",
   "execution_count": 17,
   "metadata": {},
   "outputs": [
    {
     "data": {
      "text/plain": [
       "SK_ID_CURR                      0\n",
       "SK_ID_BUREAU                    0\n",
       "CREDIT_ACTIVE                   0\n",
       "CREDIT_CURRENCY                 0\n",
       "DAYS_CREDIT                     0\n",
       "CREDIT_DAY_OVERDUE              0\n",
       "DAYS_CREDIT_ENDDATE        105553\n",
       "DAYS_ENDDATE_FACT          633653\n",
       "AMT_CREDIT_MAX_OVERDUE    1124488\n",
       "CNT_CREDIT_PROLONG              0\n",
       "AMT_CREDIT_SUM                 13\n",
       "AMT_CREDIT_SUM_DEBT        257669\n",
       "AMT_CREDIT_SUM_LIMIT       591780\n",
       "AMT_CREDIT_SUM_OVERDUE          0\n",
       "CREDIT_TYPE                     0\n",
       "DAYS_CREDIT_UPDATE              0\n",
       "AMT_ANNUITY               1226791\n",
       "dtype: int64"
      ]
     },
     "execution_count": 17,
     "metadata": {},
     "output_type": "execute_result"
    }
   ],
   "source": [
    "np.sum(pd.isnull(bureau))"
   ]
  },
  {
   "cell_type": "code",
   "execution_count": 18,
   "metadata": {},
   "outputs": [],
   "source": [
    "bureau.drop([\"AMT_ANNUITY\"],axis=1,inplace = True)\n",
    "bureau.drop([\"AMT_CREDIT_MAX_OVERDUE\"],axis=1,inplace = True)\n",
    "bureau[\"AMT_CREDIT_SUM_LIMIT\"].fillna(bureau[\"AMT_CREDIT_SUM_LIMIT\"].median(),inplace = True)"
   ]
  },
  {
   "cell_type": "code",
   "execution_count": 19,
   "metadata": {},
   "outputs": [],
   "source": [
    "bue_debt_active=bureau.loc[bureau[\"CREDIT_ACTIVE\"]==\"Active\",]\n",
    "bureau.loc[(bureau[\"CREDIT_ACTIVE\"]==\"Active\") & (pd.isnull(bureau[\"AMT_CREDIT_SUM_DEBT\"])),\"AMT_CREDIT_SUM_DEBT\"]=bue_debt_active[\"AMT_CREDIT_SUM_DEBT\"].median()"
   ]
  },
  {
   "cell_type": "code",
   "execution_count": 20,
   "metadata": {},
   "outputs": [],
   "source": [
    "bue_debt_badDebt=bureau.loc[bureau[\"CREDIT_ACTIVE\"]==\"Bad debt\",]\n",
    "bureau.loc[(bureau[\"CREDIT_ACTIVE\"]==\"Bad debt\") & (pd.isnull(bureau[\"AMT_CREDIT_SUM_DEBT\"])),\"AMT_CREDIT_SUM_DEBT\"]=bue_debt_active[\"AMT_CREDIT_SUM_DEBT\"].mean()"
   ]
  },
  {
   "cell_type": "code",
   "execution_count": 21,
   "metadata": {},
   "outputs": [],
   "source": [
    "bue_debt_cosed=bureau.loc[bureau[\"CREDIT_ACTIVE\"]==\"Closed\",]\n",
    "bureau.loc[(bureau[\"CREDIT_ACTIVE\"]==\"Closed\") & (pd.isnull(bureau[\"AMT_CREDIT_SUM_DEBT\"])),\"AMT_CREDIT_SUM_DEBT\"]=bue_debt_active[\"AMT_CREDIT_SUM_DEBT\"].median()"
   ]
  },
  {
   "cell_type": "code",
   "execution_count": 22,
   "metadata": {},
   "outputs": [],
   "source": [
    "bue_debt_sold=bureau.loc[bureau[\"CREDIT_ACTIVE\"]==\"Sold\",]\n",
    "bureau.loc[(bureau[\"CREDIT_ACTIVE\"]==\"Sold\") & (pd.isnull(bureau[\"AMT_CREDIT_SUM_DEBT\"])),\"AMT_CREDIT_SUM_DEBT\"]=bue_debt_active[\"AMT_CREDIT_SUM_DEBT\"].median()"
   ]
  },
  {
   "cell_type": "code",
   "execution_count": 23,
   "metadata": {},
   "outputs": [],
   "source": [
    "bureau.loc[(pd.isnull(bureau[\"AMT_CREDIT_SUM\"])),\"AMT_CREDIT_SUM\"]=bue_debt_active[\"AMT_CREDIT_SUM\"].median()"
   ]
  },
  {
   "cell_type": "code",
   "execution_count": 24,
   "metadata": {},
   "outputs": [],
   "source": [
    "bureau.drop(\"DAYS_ENDDATE_FACT\",axis=1,inplace=True)"
   ]
  },
  {
   "cell_type": "code",
   "execution_count": 25,
   "metadata": {},
   "outputs": [],
   "source": [
    "bureau.loc[(bureau[\"CREDIT_ACTIVE\"]==\"Active\") & (pd.isnull(bureau[\"DAYS_CREDIT_ENDDATE\"])),\"DAYS_CREDIT_ENDDATE\"]=bue_debt_active[\"DAYS_CREDIT_ENDDATE\"].median()\n",
    "\n",
    "bureau.loc[(bureau[\"CREDIT_ACTIVE\"]==\"Closed\") & (pd.isnull(bureau[\"DAYS_CREDIT_ENDDATE\"])),\"DAYS_CREDIT_ENDDATE\"]=bue_debt_active[\"DAYS_CREDIT_ENDDATE\"].median()\n",
    "\n",
    "bureau.loc[(bureau[\"CREDIT_ACTIVE\"]==\"Sold\") & (pd.isnull(bureau[\"DAYS_CREDIT_ENDDATE\"])),\"DAYS_CREDIT_ENDDATE\"]=bue_debt_active[\"DAYS_CREDIT_ENDDATE\"].median()\n",
    "\n",
    "bureau.loc[(bureau[\"CREDIT_ACTIVE\"]==\"Bad debt\") & (pd.isnull(bureau[\"DAYS_CREDIT_ENDDATE\"])),\"DAYS_CREDIT_ENDDATE\"]=bue_debt_active[\"DAYS_CREDIT_ENDDATE\"].median()"
   ]
  },
  {
   "cell_type": "code",
   "execution_count": 26,
   "metadata": {},
   "outputs": [
    {
     "data": {
      "text/plain": [
       "SK_ID_CURR                 0\n",
       "SK_ID_BUREAU               0\n",
       "CREDIT_ACTIVE              0\n",
       "CREDIT_CURRENCY            0\n",
       "DAYS_CREDIT                0\n",
       "CREDIT_DAY_OVERDUE         0\n",
       "DAYS_CREDIT_ENDDATE        1\n",
       "DAYS_ENDDATE_FACT         11\n",
       "CNT_CREDIT_PROLONG         0\n",
       "AMT_CREDIT_SUM             0\n",
       "AMT_CREDIT_SUM_DEBT        6\n",
       "AMT_CREDIT_SUM_LIMIT       0\n",
       "AMT_CREDIT_SUM_OVERDUE     0\n",
       "CREDIT_TYPE                0\n",
       "DAYS_CREDIT_UPDATE         0\n",
       "dtype: int64"
      ]
     },
     "execution_count": 26,
     "metadata": {},
     "output_type": "execute_result"
    }
   ],
   "source": [
    "np.sum(pd.isnull(bue_debt_badDebt))"
   ]
  },
  {
   "cell_type": "code",
   "execution_count": 27,
   "metadata": {},
   "outputs": [
    {
     "data": {
      "text/plain": [
       "SK_ID_CURR                0\n",
       "SK_ID_BUREAU              0\n",
       "CREDIT_ACTIVE             0\n",
       "CREDIT_CURRENCY           0\n",
       "DAYS_CREDIT               0\n",
       "CREDIT_DAY_OVERDUE        0\n",
       "DAYS_CREDIT_ENDDATE       0\n",
       "CNT_CREDIT_PROLONG        0\n",
       "AMT_CREDIT_SUM            0\n",
       "AMT_CREDIT_SUM_DEBT       0\n",
       "AMT_CREDIT_SUM_LIMIT      0\n",
       "AMT_CREDIT_SUM_OVERDUE    0\n",
       "CREDIT_TYPE               0\n",
       "DAYS_CREDIT_UPDATE        0\n",
       "dtype: int64"
      ]
     },
     "execution_count": 27,
     "metadata": {},
     "output_type": "execute_result"
    }
   ],
   "source": [
    "np.sum(pd.isnull(bureau))"
   ]
  },
  {
   "cell_type": "code",
   "execution_count": 28,
   "metadata": {},
   "outputs": [],
   "source": [
    "previous_loan_counts = bureau.groupby('SK_ID_CURR', as_index=False)['SK_ID_BUREAU'].count().rename(columns = {'SK_ID_BUREAU': 'PREVIOUS_LOANS_COUNT'})"
   ]
  },
  {
   "cell_type": "markdown",
   "metadata": {},
   "source": [
    "### 5.Previous Application"
   ]
  },
  {
   "cell_type": "code",
   "execution_count": 29,
   "metadata": {},
   "outputs": [
    {
     "data": {
      "text/plain": [
       "SK_ID_PREV                           0\n",
       "SK_ID_CURR                           0\n",
       "NAME_CONTRACT_TYPE                   0\n",
       "AMT_ANNUITY                     372235\n",
       "AMT_APPLICATION                      0\n",
       "AMT_CREDIT                           1\n",
       "AMT_DOWN_PAYMENT                895844\n",
       "AMT_GOODS_PRICE                 385515\n",
       "WEEKDAY_APPR_PROCESS_START           0\n",
       "HOUR_APPR_PROCESS_START              0\n",
       "FLAG_LAST_APPL_PER_CONTRACT          0\n",
       "NFLAG_LAST_APPL_IN_DAY               0\n",
       "RATE_DOWN_PAYMENT               895844\n",
       "RATE_INTEREST_PRIMARY          1664263\n",
       "RATE_INTEREST_PRIVILEGED       1664263\n",
       "NAME_CASH_LOAN_PURPOSE               0\n",
       "NAME_CONTRACT_STATUS                 0\n",
       "DAYS_DECISION                        0\n",
       "NAME_PAYMENT_TYPE                    0\n",
       "CODE_REJECT_REASON                   0\n",
       "NAME_TYPE_SUITE                 820405\n",
       "NAME_CLIENT_TYPE                     0\n",
       "NAME_GOODS_CATEGORY                  0\n",
       "NAME_PORTFOLIO                       0\n",
       "NAME_PRODUCT_TYPE                    0\n",
       "CHANNEL_TYPE                         0\n",
       "SELLERPLACE_AREA                     0\n",
       "NAME_SELLER_INDUSTRY                 0\n",
       "CNT_PAYMENT                     372230\n",
       "NAME_YIELD_GROUP                     0\n",
       "PRODUCT_COMBINATION                346\n",
       "DAYS_FIRST_DRAWING              673065\n",
       "DAYS_FIRST_DUE                  673065\n",
       "DAYS_LAST_DUE_1ST_VERSION       673065\n",
       "DAYS_LAST_DUE                   673065\n",
       "DAYS_TERMINATION                673065\n",
       "NFLAG_INSURED_ON_APPROVAL       673065\n",
       "dtype: int64"
      ]
     },
     "execution_count": 29,
     "metadata": {},
     "output_type": "execute_result"
    }
   ],
   "source": [
    "previous_application.isnull().sum()"
   ]
  },
  {
   "cell_type": "code",
   "execution_count": 30,
   "metadata": {},
   "outputs": [
    {
     "name": "stderr",
     "output_type": "stream",
     "text": [
      "C:\\Users\\91808\\Anaconda3\\lib\\site-packages\\ipykernel_launcher.py:1: SettingWithCopyWarning: \n",
      "A value is trying to be set on a copy of a slice from a DataFrame\n",
      "\n",
      "See the caveats in the documentation: http://pandas.pydata.org/pandas-docs/stable/user_guide/indexing.html#returning-a-view-versus-a-copy\n",
      "  \"\"\"Entry point for launching an IPython kernel.\n",
      "C:\\Users\\91808\\Anaconda3\\lib\\site-packages\\ipykernel_launcher.py:2: SettingWithCopyWarning: \n",
      "A value is trying to be set on a copy of a slice from a DataFrame\n",
      "\n",
      "See the caveats in the documentation: http://pandas.pydata.org/pandas-docs/stable/user_guide/indexing.html#returning-a-view-versus-a-copy\n",
      "  \n",
      "C:\\Users\\91808\\Anaconda3\\lib\\site-packages\\ipykernel_launcher.py:3: SettingWithCopyWarning: \n",
      "A value is trying to be set on a copy of a slice from a DataFrame\n",
      "\n",
      "See the caveats in the documentation: http://pandas.pydata.org/pandas-docs/stable/user_guide/indexing.html#returning-a-view-versus-a-copy\n",
      "  This is separate from the ipykernel package so we can avoid doing imports until\n",
      "C:\\Users\\91808\\Anaconda3\\lib\\site-packages\\ipykernel_launcher.py:4: SettingWithCopyWarning: \n",
      "A value is trying to be set on a copy of a slice from a DataFrame\n",
      "\n",
      "See the caveats in the documentation: http://pandas.pydata.org/pandas-docs/stable/user_guide/indexing.html#returning-a-view-versus-a-copy\n",
      "  after removing the cwd from sys.path.\n",
      "C:\\Users\\91808\\Anaconda3\\lib\\site-packages\\ipykernel_launcher.py:5: SettingWithCopyWarning: \n",
      "A value is trying to be set on a copy of a slice from a DataFrame\n",
      "\n",
      "See the caveats in the documentation: http://pandas.pydata.org/pandas-docs/stable/user_guide/indexing.html#returning-a-view-versus-a-copy\n",
      "  \"\"\"\n",
      "C:\\Users\\91808\\Anaconda3\\lib\\site-packages\\ipykernel_launcher.py:6: SettingWithCopyWarning: \n",
      "A value is trying to be set on a copy of a slice from a DataFrame\n",
      "\n",
      "See the caveats in the documentation: http://pandas.pydata.org/pandas-docs/stable/user_guide/indexing.html#returning-a-view-versus-a-copy\n",
      "  \n",
      "C:\\Users\\91808\\Anaconda3\\lib\\site-packages\\ipykernel_launcher.py:7: SettingWithCopyWarning: \n",
      "A value is trying to be set on a copy of a slice from a DataFrame\n",
      "\n",
      "See the caveats in the documentation: http://pandas.pydata.org/pandas-docs/stable/user_guide/indexing.html#returning-a-view-versus-a-copy\n",
      "  import sys\n",
      "C:\\Users\\91808\\Anaconda3\\lib\\site-packages\\ipykernel_launcher.py:8: SettingWithCopyWarning: \n",
      "A value is trying to be set on a copy of a slice from a DataFrame\n",
      "\n",
      "See the caveats in the documentation: http://pandas.pydata.org/pandas-docs/stable/user_guide/indexing.html#returning-a-view-versus-a-copy\n",
      "  \n",
      "C:\\Users\\91808\\Anaconda3\\lib\\site-packages\\ipykernel_launcher.py:9: SettingWithCopyWarning: \n",
      "A value is trying to be set on a copy of a slice from a DataFrame\n",
      "\n",
      "See the caveats in the documentation: http://pandas.pydata.org/pandas-docs/stable/user_guide/indexing.html#returning-a-view-versus-a-copy\n",
      "  if __name__ == '__main__':\n",
      "C:\\Users\\91808\\Anaconda3\\lib\\site-packages\\ipykernel_launcher.py:10: SettingWithCopyWarning: \n",
      "A value is trying to be set on a copy of a slice from a DataFrame\n",
      "\n",
      "See the caveats in the documentation: http://pandas.pydata.org/pandas-docs/stable/user_guide/indexing.html#returning-a-view-versus-a-copy\n",
      "  # Remove the CWD from sys.path while we load stuff.\n",
      "C:\\Users\\91808\\Anaconda3\\lib\\site-packages\\ipykernel_launcher.py:11: SettingWithCopyWarning: \n",
      "A value is trying to be set on a copy of a slice from a DataFrame\n",
      "\n",
      "See the caveats in the documentation: http://pandas.pydata.org/pandas-docs/stable/user_guide/indexing.html#returning-a-view-versus-a-copy\n",
      "  # This is added back by InteractiveShellApp.init_path()\n",
      "C:\\Users\\91808\\Anaconda3\\lib\\site-packages\\ipykernel_launcher.py:12: SettingWithCopyWarning: \n",
      "A value is trying to be set on a copy of a slice from a DataFrame\n",
      "\n",
      "See the caveats in the documentation: http://pandas.pydata.org/pandas-docs/stable/user_guide/indexing.html#returning-a-view-versus-a-copy\n",
      "  if sys.path[0] == '':\n"
     ]
    }
   ],
   "source": [
    "previous_application.AMT_ANNUITY[previous_application.AMT_ANNUITY.isnull()] = 0\n",
    "previous_application.AMT_GOODS_PRICE[previous_application.AMT_GOODS_PRICE.isnull()] = 0\n",
    "previous_application.DAYS_FIRST_DRAWING[previous_application.DAYS_FIRST_DRAWING.isnull()] = 0\n",
    "previous_application.DAYS_FIRST_DUE[previous_application.DAYS_FIRST_DUE.isnull()] = 0\n",
    "previous_application.DAYS_LAST_DUE[previous_application.DAYS_LAST_DUE.isnull()] = 0\n",
    "previous_application.DAYS_LAST_DUE_1ST_VERSION[previous_application.DAYS_LAST_DUE_1ST_VERSION.isnull()] = 0\n",
    "previous_application.DAYS_TERMINATION[previous_application.DAYS_TERMINATION.isnull()] = 0\n",
    "previous_application.NFLAG_INSURED_ON_APPROVAL[previous_application.NFLAG_INSURED_ON_APPROVAL.isnull()] = 0\n",
    "previous_application.AMT_DOWN_PAYMENT[previous_application.AMT_DOWN_PAYMENT.isnull()] = 0\n",
    "previous_application.RATE_DOWN_PAYMENT[previous_application.RATE_DOWN_PAYMENT.isnull()] = 0\n",
    "previous_application.CNT_PAYMENT[previous_application.CNT_PAYMENT.isnull()] = 0\n",
    "previous_application.AMT_CREDIT[previous_application.AMT_CREDIT.isnull()] = 0"
   ]
  },
  {
   "cell_type": "code",
   "execution_count": 31,
   "metadata": {},
   "outputs": [],
   "source": [
    "#Dropping the variables with 99.6% missing values\n",
    "previous_application.drop(['RATE_INTEREST_PRIMARY','RATE_INTEREST_PRIVILEGED'], axis=1, inplace=True)\n",
    "previous_application.drop(['NAME_TYPE_SUITE'], axis=1, inplace=True)"
   ]
  },
  {
   "cell_type": "code",
   "execution_count": 32,
   "metadata": {},
   "outputs": [],
   "source": [
    "k=previous_application[\"PRODUCT_COMBINATION\"].mode()\n",
    "previous_application.loc[pd.isnull(previous_application['PRODUCT_COMBINATION']),'PRODUCT_COMBINATION'] = k[0]"
   ]
  },
  {
   "cell_type": "code",
   "execution_count": 33,
   "metadata": {},
   "outputs": [
    {
     "data": {
      "text/plain": [
       "SK_ID_PREV                     0\n",
       "SK_ID_CURR                     0\n",
       "NAME_CONTRACT_TYPE             0\n",
       "AMT_ANNUITY                    0\n",
       "AMT_APPLICATION                0\n",
       "AMT_CREDIT                     0\n",
       "AMT_DOWN_PAYMENT               0\n",
       "AMT_GOODS_PRICE                0\n",
       "WEEKDAY_APPR_PROCESS_START     0\n",
       "HOUR_APPR_PROCESS_START        0\n",
       "FLAG_LAST_APPL_PER_CONTRACT    0\n",
       "NFLAG_LAST_APPL_IN_DAY         0\n",
       "RATE_DOWN_PAYMENT              0\n",
       "NAME_CASH_LOAN_PURPOSE         0\n",
       "NAME_CONTRACT_STATUS           0\n",
       "DAYS_DECISION                  0\n",
       "NAME_PAYMENT_TYPE              0\n",
       "CODE_REJECT_REASON             0\n",
       "NAME_CLIENT_TYPE               0\n",
       "NAME_GOODS_CATEGORY            0\n",
       "NAME_PORTFOLIO                 0\n",
       "NAME_PRODUCT_TYPE              0\n",
       "CHANNEL_TYPE                   0\n",
       "SELLERPLACE_AREA               0\n",
       "NAME_SELLER_INDUSTRY           0\n",
       "CNT_PAYMENT                    0\n",
       "NAME_YIELD_GROUP               0\n",
       "PRODUCT_COMBINATION            0\n",
       "DAYS_FIRST_DRAWING             0\n",
       "DAYS_FIRST_DUE                 0\n",
       "DAYS_LAST_DUE_1ST_VERSION      0\n",
       "DAYS_LAST_DUE                  0\n",
       "DAYS_TERMINATION               0\n",
       "NFLAG_INSURED_ON_APPROVAL      0\n",
       "dtype: int64"
      ]
     },
     "execution_count": 33,
     "metadata": {},
     "output_type": "execute_result"
    }
   ],
   "source": [
    "previous_application.isnull().sum()"
   ]
  },
  {
   "cell_type": "markdown",
   "metadata": {},
   "source": [
    "### 6.Application Train"
   ]
  },
  {
   "cell_type": "code",
   "execution_count": 34,
   "metadata": {},
   "outputs": [
    {
     "data": {
      "text/plain": [
       "SK_ID_CURR                        0\n",
       "TARGET                            0\n",
       "NAME_CONTRACT_TYPE                0\n",
       "CODE_GENDER                       0\n",
       "FLAG_OWN_CAR                      0\n",
       "                              ...  \n",
       "AMT_REQ_CREDIT_BUREAU_DAY     41519\n",
       "AMT_REQ_CREDIT_BUREAU_WEEK    41519\n",
       "AMT_REQ_CREDIT_BUREAU_MON     41519\n",
       "AMT_REQ_CREDIT_BUREAU_QRT     41519\n",
       "AMT_REQ_CREDIT_BUREAU_YEAR    41519\n",
       "Length: 122, dtype: int64"
      ]
     },
     "execution_count": 34,
     "metadata": {},
     "output_type": "execute_result"
    }
   ],
   "source": [
    "np.sum(pd.isnull(train))"
   ]
  },
  {
   "cell_type": "code",
   "execution_count": 35,
   "metadata": {},
   "outputs": [],
   "source": [
    "train[\"AMT_ANNUITY\"].fillna(train[\"AMT_ANNUITY\"].median(),inplace=True)\n",
    "\n",
    "train[\"AMT_GOODS_PRICE\"].fillna(train[\"AMT_GOODS_PRICE\"].median(),inplace=True)\n",
    "\n",
    "train[\"NAME_TYPE_SUITE\"].fillna(train[\"NAME_TYPE_SUITE\"].mode()[0],inplace=True)\n",
    "\n",
    "train.loc[(train[\"FLAG_OWN_CAR\"]=='Y') & (pd.isnull(train[\"OWN_CAR_AGE\"])),\"OWN_CAR_AGE\" ]=train[\"OWN_CAR_AGE\"].median()\n",
    "\n",
    "train.loc[(train[\"FLAG_OWN_CAR\"]=='N') & (pd.isnull(train[\"OWN_CAR_AGE\"])),\"OWN_CAR_AGE\" ]=0.0\n",
    "\n",
    "\n",
    "all_cols=train.columns\n",
    "num_cols=train._get_numeric_data().columns\n",
    "categoriacal_cols=list(set(all_cols)-set(num_cols))\n",
    "categoriacal_cols\n",
    "\n",
    "\n",
    "\n",
    "nulls = train.isnull().sum()\n",
    "percent_nulls = (nulls/train.isnull().count())*100\n",
    "missing_values  = pd.concat([nulls, percent_nulls], axis=1, keys=['Total', 'Percent'])\n",
    "missing_values\n",
    "# Vignesh\n",
    "\n",
    "\n",
    "#Imputing the AMT_REQ columns with median\n",
    "amt_req = ['AMT_REQ_CREDIT_BUREAU_HOUR','AMT_REQ_CREDIT_BUREAU_DAY','AMT_REQ_CREDIT_BUREAU_WEEK','AMT_REQ_CREDIT_BUREAU_MON','AMT_REQ_CREDIT_BUREAU_QRT','AMT_REQ_CREDIT_BUREAU_YEAR']\n",
    "for i in amt_req:\n",
    "    train.loc[pd.isnull(train[i]),i] = train[i].median()\n",
    "\n",
    "\n",
    "#Imputing the OBS_DEF columns with median\n",
    "obs_def = ['OBS_30_CNT_SOCIAL_CIRCLE','DEF_30_CNT_SOCIAL_CIRCLE','OBS_60_CNT_SOCIAL_CIRCLE','DEF_60_CNT_SOCIAL_CIRCLE']\n",
    "for i in obs_def:\n",
    "    train.loc[pd.isnull(train[i]),i] = train[i].median()\n",
    "\n",
    "\n",
    "\n",
    "train.loc[pd.isnull(train['DAYS_LAST_PHONE_CHANGE']),'DAYS_LAST_PHONE_CHANGE'] = train['DAYS_LAST_PHONE_CHANGE'].median()\n",
    "\n",
    "train.loc[pd.isnull(train['EXT_SOURCE_2']),'EXT_SOURCE_2'] = train['EXT_SOURCE_2'].median()\n",
    "train.loc[pd.isnull(train['EXT_SOURCE_3']),'EXT_SOURCE_3'] = train['EXT_SOURCE_3'].median()\n",
    "train.loc[pd.isnull(train['CNT_FAM_MEMBERS']),'CNT_FAM_MEMBERS'] = train['CNT_FAM_MEMBERS'].median()"
   ]
  },
  {
   "cell_type": "code",
   "execution_count": 36,
   "metadata": {},
   "outputs": [],
   "source": [
    "lst = train.columns\n",
    "housing_columns = lst[44:91]\n",
    "\n",
    "\n",
    "for i in range(len(housing_columns)):\n",
    "    train[housing_columns[i]].fillna(0,inplace=True)\n",
    "\n",
    "\n",
    "\n",
    "train.drop([\"WALLSMATERIAL_MODE\"],axis=1,inplace = True)\n",
    "\n",
    "train.drop([\"HOUSETYPE_MODE\"],axis=1,inplace = True)\n",
    "\n",
    "train.drop([\"FONDKAPREMONT_MODE\"],axis=1,inplace = True)\n",
    "train.drop([\"EXT_SOURCE_1\"],axis=1,inplace = True)\n",
    "# Need to re consider this columns\n",
    "\n",
    "\n",
    "train.drop([\"OCCUPATION_TYPE\"],axis=1,inplace = True)\n",
    "train.drop([\"EMERGENCYSTATE_MODE\"],axis=1,inplace = True)"
   ]
  },
  {
   "cell_type": "code",
   "execution_count": 37,
   "metadata": {},
   "outputs": [
    {
     "name": "stdout",
     "output_type": "stream",
     "text": [
      "Memory usage of dataframe is 272.15 MB\n",
      "Memory usage after optimization is: 57.49 MB\n",
      "Decreased by 78.9%\n"
     ]
    }
   ],
   "source": [
    "train=reduce_mem_usage(train)"
   ]
  },
  {
   "cell_type": "markdown",
   "metadata": {},
   "source": [
    "### 7.Application Test"
   ]
  },
  {
   "cell_type": "code",
   "execution_count": 38,
   "metadata": {},
   "outputs": [],
   "source": [
    "test[\"AMT_ANNUITY\"].fillna(test[\"AMT_ANNUITY\"].median(),inplace=True)\n",
    "\n",
    "test[\"AMT_GOODS_PRICE\"].fillna(test[\"AMT_GOODS_PRICE\"].median(),inplace=True)\n",
    "\n",
    "test[\"NAME_TYPE_SUITE\"].fillna(test[\"NAME_TYPE_SUITE\"].mode()[0],inplace=True)\n",
    "\n",
    "test.loc[(test[\"FLAG_OWN_CAR\"]=='Y') & (pd.isnull(test[\"OWN_CAR_AGE\"])),\"OWN_CAR_AGE\" ]=test[\"OWN_CAR_AGE\"].median()\n",
    "\n",
    "test.loc[(test[\"FLAG_OWN_CAR\"]=='N') & (pd.isnull(test[\"OWN_CAR_AGE\"])),\"OWN_CAR_AGE\" ]=0.0\n",
    "\n",
    "\n",
    "all_cols=test.columns\n",
    "num_cols=test._get_numeric_data().columns\n",
    "categoriacal_cols=list(set(all_cols)-set(num_cols))\n",
    "categoriacal_cols\n",
    "\n",
    "\n",
    "\n",
    "nulls = test.isnull().sum()\n",
    "percent_nulls = (nulls/test.isnull().count())*100\n",
    "missing_values  = pd.concat([nulls, percent_nulls], axis=1, keys=['Total', 'Percent'])\n",
    "missing_values\n",
    "\n",
    "\n",
    "\n",
    "#Imputing the AMT_REQ columns with median\n",
    "amt_req = ['AMT_REQ_CREDIT_BUREAU_HOUR','AMT_REQ_CREDIT_BUREAU_DAY','AMT_REQ_CREDIT_BUREAU_WEEK','AMT_REQ_CREDIT_BUREAU_MON','AMT_REQ_CREDIT_BUREAU_QRT','AMT_REQ_CREDIT_BUREAU_YEAR']\n",
    "for i in amt_req:\n",
    "    test.loc[pd.isnull(test[i]),i] = test[i].median()\n",
    "\n",
    "\n",
    "#Imputing the OBS_DEF columns with median\n",
    "obs_def = ['OBS_30_CNT_SOCIAL_CIRCLE','DEF_30_CNT_SOCIAL_CIRCLE','OBS_60_CNT_SOCIAL_CIRCLE','DEF_60_CNT_SOCIAL_CIRCLE']\n",
    "for i in obs_def:\n",
    "    test.loc[pd.isnull(test[i]),i] = test[i].median()\n",
    "\n",
    "\n",
    "\n",
    "test.loc[pd.isnull(test['DAYS_LAST_PHONE_CHANGE']),'DAYS_LAST_PHONE_CHANGE'] = test['DAYS_LAST_PHONE_CHANGE'].median()\n",
    "\n",
    "test.loc[pd.isnull(test['EXT_SOURCE_2']),'EXT_SOURCE_2'] = test['EXT_SOURCE_2'].median()\n",
    "test.loc[pd.isnull(test['EXT_SOURCE_3']),'EXT_SOURCE_3'] = test['EXT_SOURCE_3'].median()\n",
    "test.loc[pd.isnull(test['CNT_FAM_MEMBERS']),'CNT_FAM_MEMBERS'] = test['CNT_FAM_MEMBERS'].median()"
   ]
  },
  {
   "cell_type": "code",
   "execution_count": 39,
   "metadata": {},
   "outputs": [],
   "source": [
    "lst = test.columns\n",
    "housing_columns = lst[44:91]\n",
    "\n",
    "\n",
    "for i in range(len(housing_columns)):\n",
    "    test[housing_columns[i]].fillna(0,inplace=True)\n",
    "\n",
    "\n",
    "\n",
    "test.drop([\"WALLSMATERIAL_MODE\"],axis=1,inplace = True)\n",
    "\n",
    "test.drop([\"HOUSETYPE_MODE\"],axis=1,inplace = True)\n",
    "\n",
    "test.drop([\"FONDKAPREMONT_MODE\"],axis=1,inplace = True)\n",
    "test.drop([\"EXT_SOURCE_1\"],axis=1,inplace = True)\n",
    "# Need to re consider this columns\n",
    "\n",
    "\n",
    "test.drop([\"OCCUPATION_TYPE\"],axis=1,inplace = True)\n",
    "test.drop([\"EMERGENCYSTATE_MODE\"],axis=1,inplace = True)"
   ]
  },
  {
   "cell_type": "code",
   "execution_count": 40,
   "metadata": {},
   "outputs": [
    {
     "name": "stdout",
     "output_type": "stream",
     "text": [
      "Memory usage of dataframe is 42.77 MB\n",
      "Memory usage after optimization is: 9.07 MB\n",
      "Decreased by 78.8%\n"
     ]
    }
   ],
   "source": [
    "test=reduce_mem_usage(test)"
   ]
  },
  {
   "cell_type": "markdown",
   "metadata": {},
   "source": [
    " "
   ]
  },
  {
   "cell_type": "markdown",
   "metadata": {},
   "source": [
    " "
   ]
  },
  {
   "cell_type": "markdown",
   "metadata": {},
   "source": [
    " "
   ]
  },
  {
   "cell_type": "markdown",
   "metadata": {},
   "source": [
    "### Data Prepration"
   ]
  },
  {
   "cell_type": "markdown",
   "metadata": {},
   "source": [
    "### Joining all the files "
   ]
  },
  {
   "cell_type": "code",
   "execution_count": 41,
   "metadata": {},
   "outputs": [],
   "source": [
    "train = pd.get_dummies(train)\n",
    "test = pd.get_dummies(test)"
   ]
  },
  {
   "cell_type": "code",
   "execution_count": 42,
   "metadata": {},
   "outputs": [
    {
     "data": {
      "text/plain": [
       "(307511, 210)"
      ]
     },
     "execution_count": 42,
     "metadata": {},
     "output_type": "execute_result"
    }
   ],
   "source": [
    "train.shape"
   ]
  },
  {
   "cell_type": "code",
   "execution_count": 43,
   "metadata": {},
   "outputs": [
    {
     "data": {
      "text/plain": [
       "(48744, 207)"
      ]
     },
     "execution_count": 43,
     "metadata": {},
     "output_type": "execute_result"
    }
   ],
   "source": [
    "test.shape"
   ]
  },
  {
   "cell_type": "markdown",
   "metadata": {},
   "source": [
    " "
   ]
  },
  {
   "cell_type": "markdown",
   "metadata": {},
   "source": [
    " "
   ]
  },
  {
   "cell_type": "markdown",
   "metadata": {},
   "source": [
    " "
   ]
  },
  {
   "cell_type": "code",
   "execution_count": 44,
   "metadata": {},
   "outputs": [],
   "source": [
    "train_labels = train['TARGET']"
   ]
  },
  {
   "cell_type": "code",
   "execution_count": 45,
   "metadata": {},
   "outputs": [],
   "source": [
    "train, test = train.align(test, join = 'inner', axis = 1)"
   ]
  },
  {
   "cell_type": "markdown",
   "metadata": {},
   "source": [
    "#### Merging train and test datasets"
   ]
  },
  {
   "cell_type": "code",
   "execution_count": 46,
   "metadata": {},
   "outputs": [],
   "source": [
    "data = train.append(test)"
   ]
  },
  {
   "cell_type": "code",
   "execution_count": 47,
   "metadata": {},
   "outputs": [],
   "source": [
    "data = data.merge(previous_loan_counts, on = 'SK_ID_CURR', how = 'left')"
   ]
  },
  {
   "cell_type": "code",
   "execution_count": 48,
   "metadata": {},
   "outputs": [],
   "source": [
    "# first define the formula for grouping rows by ID and calculating mean values\n",
    "def extract_mean(x):\n",
    "    y = x.groupby('SK_ID_BUREAU', as_index=False).mean().add_prefix('BUR_BAL_MEAN_') \n",
    "    return y"
   ]
  },
  {
   "cell_type": "markdown",
   "metadata": {},
   "source": [
    "#### Merging Bureau balance to the above merge"
   ]
  },
  {
   "cell_type": "code",
   "execution_count": 49,
   "metadata": {},
   "outputs": [],
   "source": [
    "bureau_bal_mean = extract_mean(bureau_balance)"
   ]
  },
  {
   "cell_type": "code",
   "execution_count": 50,
   "metadata": {},
   "outputs": [],
   "source": [
    "bureau_bal_mean = bureau_bal_mean.rename(columns = {'BUR_BAL_MEAN_SK_ID_BUREAU' : 'SK_ID_BUREAU'})"
   ]
  },
  {
   "cell_type": "code",
   "execution_count": 51,
   "metadata": {},
   "outputs": [],
   "source": [
    "bureau = bureau.merge(bureau_bal_mean, on = 'SK_ID_BUREAU', how = 'left')\n",
    "bureau.drop('SK_ID_BUREAU', axis = 1, inplace = True)"
   ]
  },
  {
   "cell_type": "code",
   "execution_count": 52,
   "metadata": {},
   "outputs": [],
   "source": [
    "def extract_mean(x):\n",
    "    y = x.groupby('SK_ID_CURR', as_index=False).mean().add_prefix('PREV_BUR_MEAN_') # note that we have changed the ID to group by and the prefix to add\n",
    "    return y"
   ]
  },
  {
   "cell_type": "code",
   "execution_count": 53,
   "metadata": {},
   "outputs": [],
   "source": [
    "bureau_mean_values = extract_mean(bureau)\n",
    "bureau_mean_values = bureau_mean_values.rename(columns = {'PREV_BUR_MEAN_SK_ID_CURR' : 'SK_ID_CURR'})"
   ]
  },
  {
   "cell_type": "code",
   "execution_count": 54,
   "metadata": {},
   "outputs": [],
   "source": [
    "data = data.merge(bureau_mean_values, on = 'SK_ID_CURR', how = 'left')"
   ]
  },
  {
   "cell_type": "code",
   "execution_count": 55,
   "metadata": {},
   "outputs": [
    {
     "data": {
      "text/plain": [
       "(356255, 218)"
      ]
     },
     "execution_count": 55,
     "metadata": {},
     "output_type": "execute_result"
    }
   ],
   "source": [
    "data.shape"
   ]
  },
  {
   "cell_type": "code",
   "execution_count": 56,
   "metadata": {},
   "outputs": [],
   "source": [
    "credit_card_balance.drop('SK_ID_CURR', axis = 1, inplace = True)\n",
    "installments_payments.drop('SK_ID_CURR', axis = 1, inplace = True)\n",
    "POS_CASH_balance.drop('SK_ID_CURR', axis = 1, inplace = True)"
   ]
  },
  {
   "cell_type": "code",
   "execution_count": 57,
   "metadata": {},
   "outputs": [
    {
     "data": {
      "text/html": [
       "<div>\n",
       "<style scoped>\n",
       "    .dataframe tbody tr th:only-of-type {\n",
       "        vertical-align: middle;\n",
       "    }\n",
       "\n",
       "    .dataframe tbody tr th {\n",
       "        vertical-align: top;\n",
       "    }\n",
       "\n",
       "    .dataframe thead th {\n",
       "        text-align: right;\n",
       "    }\n",
       "</style>\n",
       "<table border=\"1\" class=\"dataframe\">\n",
       "  <thead>\n",
       "    <tr style=\"text-align: right;\">\n",
       "      <th></th>\n",
       "      <th>SK_ID_CURR</th>\n",
       "      <th>PREVIOUS_APPLICATION_COUNT</th>\n",
       "    </tr>\n",
       "  </thead>\n",
       "  <tbody>\n",
       "    <tr>\n",
       "      <th>0</th>\n",
       "      <td>100001</td>\n",
       "      <td>1</td>\n",
       "    </tr>\n",
       "    <tr>\n",
       "      <th>1</th>\n",
       "      <td>100002</td>\n",
       "      <td>1</td>\n",
       "    </tr>\n",
       "    <tr>\n",
       "      <th>2</th>\n",
       "      <td>100003</td>\n",
       "      <td>3</td>\n",
       "    </tr>\n",
       "    <tr>\n",
       "      <th>3</th>\n",
       "      <td>100004</td>\n",
       "      <td>1</td>\n",
       "    </tr>\n",
       "    <tr>\n",
       "      <th>4</th>\n",
       "      <td>100005</td>\n",
       "      <td>2</td>\n",
       "    </tr>\n",
       "  </tbody>\n",
       "</table>\n",
       "</div>"
      ],
      "text/plain": [
       "   SK_ID_CURR  PREVIOUS_APPLICATION_COUNT\n",
       "0      100001                           1\n",
       "1      100002                           1\n",
       "2      100003                           3\n",
       "3      100004                           1\n",
       "4      100005                           2"
      ]
     },
     "execution_count": 57,
     "metadata": {},
     "output_type": "execute_result"
    }
   ],
   "source": [
    "previous_application_counts = previous_application.groupby('SK_ID_CURR', as_index=False)['SK_ID_PREV'].count().rename(columns = {'SK_ID_PREV': 'PREVIOUS_APPLICATION_COUNT'})\n",
    "previous_application_counts.head()"
   ]
  },
  {
   "cell_type": "markdown",
   "metadata": {},
   "source": [
    "#### Merging Previous application to the above merge"
   ]
  },
  {
   "cell_type": "code",
   "execution_count": 58,
   "metadata": {},
   "outputs": [],
   "source": [
    "data = data.merge(previous_application_counts, on = 'SK_ID_CURR', how = 'left')"
   ]
  },
  {
   "cell_type": "code",
   "execution_count": 59,
   "metadata": {},
   "outputs": [
    {
     "data": {
      "text/html": [
       "<div>\n",
       "<style scoped>\n",
       "    .dataframe tbody tr th:only-of-type {\n",
       "        vertical-align: middle;\n",
       "    }\n",
       "\n",
       "    .dataframe tbody tr th {\n",
       "        vertical-align: top;\n",
       "    }\n",
       "\n",
       "    .dataframe thead th {\n",
       "        text-align: right;\n",
       "    }\n",
       "</style>\n",
       "<table border=\"1\" class=\"dataframe\">\n",
       "  <thead>\n",
       "    <tr style=\"text-align: right;\">\n",
       "      <th></th>\n",
       "      <th>SK_ID_CURR</th>\n",
       "      <th>CNT_CHILDREN</th>\n",
       "      <th>AMT_INCOME_TOTAL</th>\n",
       "      <th>AMT_CREDIT</th>\n",
       "      <th>AMT_ANNUITY</th>\n",
       "      <th>AMT_GOODS_PRICE</th>\n",
       "      <th>REGION_POPULATION_RELATIVE</th>\n",
       "      <th>DAYS_BIRTH</th>\n",
       "      <th>DAYS_EMPLOYED</th>\n",
       "      <th>DAYS_REGISTRATION</th>\n",
       "      <th>...</th>\n",
       "      <th>PREV_BUR_MEAN_CREDIT_DAY_OVERDUE</th>\n",
       "      <th>PREV_BUR_MEAN_DAYS_CREDIT_ENDDATE</th>\n",
       "      <th>PREV_BUR_MEAN_CNT_CREDIT_PROLONG</th>\n",
       "      <th>PREV_BUR_MEAN_AMT_CREDIT_SUM</th>\n",
       "      <th>PREV_BUR_MEAN_AMT_CREDIT_SUM_DEBT</th>\n",
       "      <th>PREV_BUR_MEAN_AMT_CREDIT_SUM_LIMIT</th>\n",
       "      <th>PREV_BUR_MEAN_AMT_CREDIT_SUM_OVERDUE</th>\n",
       "      <th>PREV_BUR_MEAN_DAYS_CREDIT_UPDATE</th>\n",
       "      <th>PREV_BUR_MEAN_BUR_BAL_MEAN_MONTHS_BALANCE</th>\n",
       "      <th>PREVIOUS_APPLICATION_COUNT</th>\n",
       "    </tr>\n",
       "  </thead>\n",
       "  <tbody>\n",
       "    <tr>\n",
       "      <th>0</th>\n",
       "      <td>100002</td>\n",
       "      <td>0</td>\n",
       "      <td>202500.0</td>\n",
       "      <td>406597.5</td>\n",
       "      <td>24700.5</td>\n",
       "      <td>351000.0</td>\n",
       "      <td>0.018799</td>\n",
       "      <td>-9461</td>\n",
       "      <td>-637</td>\n",
       "      <td>-3648.0</td>\n",
       "      <td>...</td>\n",
       "      <td>0.0</td>\n",
       "      <td>-92.25</td>\n",
       "      <td>0.0</td>\n",
       "      <td>108131.945312</td>\n",
       "      <td>67203.0</td>\n",
       "      <td>3998.570557</td>\n",
       "      <td>0.0</td>\n",
       "      <td>-499.875</td>\n",
       "      <td>-21.875</td>\n",
       "      <td>1.0</td>\n",
       "    </tr>\n",
       "    <tr>\n",
       "      <th>1</th>\n",
       "      <td>100003</td>\n",
       "      <td>0</td>\n",
       "      <td>270000.0</td>\n",
       "      <td>1293502.5</td>\n",
       "      <td>35698.5</td>\n",
       "      <td>1129500.0</td>\n",
       "      <td>0.003542</td>\n",
       "      <td>-16765</td>\n",
       "      <td>-1188</td>\n",
       "      <td>-1186.0</td>\n",
       "      <td>...</td>\n",
       "      <td>0.0</td>\n",
       "      <td>-544.50</td>\n",
       "      <td>0.0</td>\n",
       "      <td>254350.125000</td>\n",
       "      <td>0.0</td>\n",
       "      <td>202500.000000</td>\n",
       "      <td>0.0</td>\n",
       "      <td>-816.000</td>\n",
       "      <td>NaN</td>\n",
       "      <td>3.0</td>\n",
       "    </tr>\n",
       "    <tr>\n",
       "      <th>2</th>\n",
       "      <td>100004</td>\n",
       "      <td>0</td>\n",
       "      <td>67500.0</td>\n",
       "      <td>135000.0</td>\n",
       "      <td>6750.0</td>\n",
       "      <td>135000.0</td>\n",
       "      <td>0.010033</td>\n",
       "      <td>-19046</td>\n",
       "      <td>-225</td>\n",
       "      <td>-4260.0</td>\n",
       "      <td>...</td>\n",
       "      <td>0.0</td>\n",
       "      <td>-488.50</td>\n",
       "      <td>0.0</td>\n",
       "      <td>94518.898438</td>\n",
       "      <td>0.0</td>\n",
       "      <td>0.000000</td>\n",
       "      <td>0.0</td>\n",
       "      <td>-532.000</td>\n",
       "      <td>NaN</td>\n",
       "      <td>1.0</td>\n",
       "    </tr>\n",
       "    <tr>\n",
       "      <th>3</th>\n",
       "      <td>100006</td>\n",
       "      <td>0</td>\n",
       "      <td>135000.0</td>\n",
       "      <td>312682.5</td>\n",
       "      <td>29686.5</td>\n",
       "      <td>297000.0</td>\n",
       "      <td>0.008018</td>\n",
       "      <td>-19005</td>\n",
       "      <td>-3039</td>\n",
       "      <td>-9832.0</td>\n",
       "      <td>...</td>\n",
       "      <td>NaN</td>\n",
       "      <td>NaN</td>\n",
       "      <td>NaN</td>\n",
       "      <td>NaN</td>\n",
       "      <td>NaN</td>\n",
       "      <td>NaN</td>\n",
       "      <td>NaN</td>\n",
       "      <td>NaN</td>\n",
       "      <td>NaN</td>\n",
       "      <td>9.0</td>\n",
       "    </tr>\n",
       "    <tr>\n",
       "      <th>4</th>\n",
       "      <td>100007</td>\n",
       "      <td>0</td>\n",
       "      <td>121500.0</td>\n",
       "      <td>513000.0</td>\n",
       "      <td>21865.5</td>\n",
       "      <td>513000.0</td>\n",
       "      <td>0.028656</td>\n",
       "      <td>-19932</td>\n",
       "      <td>-3038</td>\n",
       "      <td>-4312.0</td>\n",
       "      <td>...</td>\n",
       "      <td>0.0</td>\n",
       "      <td>-783.00</td>\n",
       "      <td>0.0</td>\n",
       "      <td>146250.000000</td>\n",
       "      <td>0.0</td>\n",
       "      <td>0.000000</td>\n",
       "      <td>0.0</td>\n",
       "      <td>-783.000</td>\n",
       "      <td>NaN</td>\n",
       "      <td>6.0</td>\n",
       "    </tr>\n",
       "  </tbody>\n",
       "</table>\n",
       "<p>5 rows × 219 columns</p>\n",
       "</div>"
      ],
      "text/plain": [
       "   SK_ID_CURR  CNT_CHILDREN  AMT_INCOME_TOTAL  AMT_CREDIT  AMT_ANNUITY  \\\n",
       "0      100002             0          202500.0    406597.5      24700.5   \n",
       "1      100003             0          270000.0   1293502.5      35698.5   \n",
       "2      100004             0           67500.0    135000.0       6750.0   \n",
       "3      100006             0          135000.0    312682.5      29686.5   \n",
       "4      100007             0          121500.0    513000.0      21865.5   \n",
       "\n",
       "   AMT_GOODS_PRICE  REGION_POPULATION_RELATIVE  DAYS_BIRTH  DAYS_EMPLOYED  \\\n",
       "0         351000.0                    0.018799       -9461           -637   \n",
       "1        1129500.0                    0.003542      -16765          -1188   \n",
       "2         135000.0                    0.010033      -19046           -225   \n",
       "3         297000.0                    0.008018      -19005          -3039   \n",
       "4         513000.0                    0.028656      -19932          -3038   \n",
       "\n",
       "   DAYS_REGISTRATION  ...  PREV_BUR_MEAN_CREDIT_DAY_OVERDUE  \\\n",
       "0            -3648.0  ...                               0.0   \n",
       "1            -1186.0  ...                               0.0   \n",
       "2            -4260.0  ...                               0.0   \n",
       "3            -9832.0  ...                               NaN   \n",
       "4            -4312.0  ...                               0.0   \n",
       "\n",
       "   PREV_BUR_MEAN_DAYS_CREDIT_ENDDATE  PREV_BUR_MEAN_CNT_CREDIT_PROLONG  \\\n",
       "0                             -92.25                               0.0   \n",
       "1                            -544.50                               0.0   \n",
       "2                            -488.50                               0.0   \n",
       "3                                NaN                               NaN   \n",
       "4                            -783.00                               0.0   \n",
       "\n",
       "   PREV_BUR_MEAN_AMT_CREDIT_SUM  PREV_BUR_MEAN_AMT_CREDIT_SUM_DEBT  \\\n",
       "0                 108131.945312                            67203.0   \n",
       "1                 254350.125000                                0.0   \n",
       "2                  94518.898438                                0.0   \n",
       "3                           NaN                                NaN   \n",
       "4                 146250.000000                                0.0   \n",
       "\n",
       "   PREV_BUR_MEAN_AMT_CREDIT_SUM_LIMIT  PREV_BUR_MEAN_AMT_CREDIT_SUM_OVERDUE  \\\n",
       "0                         3998.570557                                   0.0   \n",
       "1                       202500.000000                                   0.0   \n",
       "2                            0.000000                                   0.0   \n",
       "3                                 NaN                                   NaN   \n",
       "4                            0.000000                                   0.0   \n",
       "\n",
       "   PREV_BUR_MEAN_DAYS_CREDIT_UPDATE  \\\n",
       "0                          -499.875   \n",
       "1                          -816.000   \n",
       "2                          -532.000   \n",
       "3                               NaN   \n",
       "4                          -783.000   \n",
       "\n",
       "   PREV_BUR_MEAN_BUR_BAL_MEAN_MONTHS_BALANCE  PREVIOUS_APPLICATION_COUNT  \n",
       "0                                    -21.875                         1.0  \n",
       "1                                        NaN                         3.0  \n",
       "2                                        NaN                         1.0  \n",
       "3                                        NaN                         9.0  \n",
       "4                                        NaN                         6.0  \n",
       "\n",
       "[5 rows x 219 columns]"
      ]
     },
     "execution_count": 59,
     "metadata": {},
     "output_type": "execute_result"
    }
   ],
   "source": [
    "data.head(5)"
   ]
  },
  {
   "cell_type": "code",
   "execution_count": 60,
   "metadata": {},
   "outputs": [],
   "source": [
    "def extract_mean(x):\n",
    "    y = x.groupby('SK_ID_PREV', as_index=False).mean().add_prefix('CARD_MEAN_')\n",
    "    return y\n",
    "\n",
    "credit_card_balance_mean = extract_mean(credit_card_balance)\n",
    "\n",
    "credit_card_balance_mean = credit_card_balance_mean.rename(columns = {'CARD_MEAN_SK_ID_PREV' : 'SK_ID_PREV'})"
   ]
  },
  {
   "cell_type": "code",
   "execution_count": 61,
   "metadata": {},
   "outputs": [],
   "source": [
    "previous_application = previous_application.merge(credit_card_balance_mean, on = 'SK_ID_PREV', how = 'left')"
   ]
  },
  {
   "cell_type": "code",
   "execution_count": 62,
   "metadata": {},
   "outputs": [],
   "source": [
    "def extract_mean(x):\n",
    "    y = x.groupby('SK_ID_PREV', as_index=False).mean().add_prefix('INSTALL_MEAN_')\n",
    "    return y\n",
    "\n",
    "install_pay_mean = extract_mean(installments_payments)\n",
    "\n",
    "install_pay_mean = install_pay_mean.rename(columns = {'INSTALL_MEAN_SK_ID_PREV' : 'SK_ID_PREV'})"
   ]
  },
  {
   "cell_type": "code",
   "execution_count": 63,
   "metadata": {},
   "outputs": [],
   "source": [
    "previous_application = previous_application.merge(install_pay_mean, on = 'SK_ID_PREV', how = 'left')"
   ]
  },
  {
   "cell_type": "code",
   "execution_count": 64,
   "metadata": {},
   "outputs": [],
   "source": [
    "def extract_mean(x):\n",
    "    y = x.groupby('SK_ID_PREV', as_index=False).mean().add_prefix('POS_MEAN_')\n",
    "    return y\n",
    "\n",
    "POS_mean = extract_mean(POS_CASH_balance)\n",
    "\n",
    "POS_mean = POS_mean.rename(columns = {'POS_MEAN_SK_ID_PREV' : 'SK_ID_PREV'})"
   ]
  },
  {
   "cell_type": "code",
   "execution_count": 65,
   "metadata": {},
   "outputs": [],
   "source": [
    "previous_application = previous_application.merge(POS_mean, on = 'SK_ID_PREV', how = 'left')"
   ]
  },
  {
   "cell_type": "code",
   "execution_count": 66,
   "metadata": {},
   "outputs": [],
   "source": [
    "def extract_mean(x):\n",
    "    y = x.groupby('SK_ID_CURR', as_index=False).mean().add_prefix('PREV_APPL_MEAN_')\n",
    "    return y\n",
    "\n",
    "prev_appl_mean = extract_mean(previous_application)\n",
    "\n",
    "prev_appl_mean = prev_appl_mean.rename(columns = {'PREV_APPL_MEAN_SK_ID_CURR' : 'SK_ID_CURR'})\n",
    "\n",
    "prev_appl_mean = prev_appl_mean.drop('PREV_APPL_MEAN_SK_ID_PREV', axis = 1) "
   ]
  },
  {
   "cell_type": "code",
   "execution_count": 67,
   "metadata": {},
   "outputs": [
    {
     "data": {
      "text/plain": [
       "(356255, 219)"
      ]
     },
     "execution_count": 67,
     "metadata": {},
     "output_type": "execute_result"
    }
   ],
   "source": [
    "data.shape"
   ]
  },
  {
   "cell_type": "code",
   "execution_count": 68,
   "metadata": {},
   "outputs": [],
   "source": [
    "data = data.merge(prev_appl_mean, on = 'SK_ID_CURR', how = 'left')"
   ]
  },
  {
   "cell_type": "markdown",
   "metadata": {},
   "source": [
    "#### Now we seperate test and train to fit and predict the model"
   ]
  },
  {
   "cell_type": "code",
   "execution_count": 69,
   "metadata": {},
   "outputs": [],
   "source": [
    "train1 = data[data['SK_ID_CURR'].isin(train.SK_ID_CURR)]\n",
    "\n",
    "test1 = data[data.SK_ID_CURR.isin(test.SK_ID_CURR)]"
   ]
  },
  {
   "cell_type": "code",
   "execution_count": 70,
   "metadata": {},
   "outputs": [
    {
     "data": {
      "text/plain": [
       "SK_ID_CURR                                           0\n",
       "CNT_CHILDREN                                         0\n",
       "AMT_INCOME_TOTAL                                     0\n",
       "AMT_CREDIT                                           0\n",
       "AMT_ANNUITY                                          0\n",
       "                                                 ...  \n",
       "PREV_APPL_MEAN_POS_MEAN_MONTHS_BALANCE           20544\n",
       "PREV_APPL_MEAN_POS_MEAN_CNT_INSTALMENT           20576\n",
       "PREV_APPL_MEAN_POS_MEAN_CNT_INSTALMENT_FUTURE    20576\n",
       "PREV_APPL_MEAN_POS_MEAN_SK_DPD                   20544\n",
       "PREV_APPL_MEAN_POS_MEAN_SK_DPD_DEF               20544\n",
       "Length: 266, dtype: int64"
      ]
     },
     "execution_count": 70,
     "metadata": {},
     "output_type": "execute_result"
    }
   ],
   "source": [
    "train1.isnull().sum()"
   ]
  },
  {
   "cell_type": "code",
   "execution_count": 71,
   "metadata": {},
   "outputs": [
    {
     "data": {
      "text/plain": [
       "(48744, 266)"
      ]
     },
     "execution_count": 71,
     "metadata": {},
     "output_type": "execute_result"
    }
   ],
   "source": [
    "test1.shape"
   ]
  },
  {
   "cell_type": "code",
   "execution_count": 76,
   "metadata": {},
   "outputs": [
    {
     "name": "stderr",
     "output_type": "stream",
     "text": [
      "C:\\Users\\91808\\Anaconda3\\lib\\site-packages\\ipykernel_launcher.py:1: SettingWithCopyWarning: \n",
      "A value is trying to be set on a copy of a slice from a DataFrame.\n",
      "Try using .loc[row_indexer,col_indexer] = value instead\n",
      "\n",
      "See the caveats in the documentation: http://pandas.pydata.org/pandas-docs/stable/user_guide/indexing.html#returning-a-view-versus-a-copy\n",
      "  \"\"\"Entry point for launching an IPython kernel.\n",
      "C:\\Users\\91808\\Anaconda3\\lib\\site-packages\\pandas\\core\\frame.py:3530: SettingWithCopyWarning: \n",
      "A value is trying to be set on a copy of a slice from a DataFrame\n",
      "\n",
      "See the caveats in the documentation: http://pandas.pydata.org/pandas-docs/stable/user_guide/indexing.html#returning-a-view-versus-a-copy\n",
      "  self._where(-key, value, inplace=True)\n",
      "C:\\Users\\91808\\Anaconda3\\lib\\site-packages\\ipykernel_launcher.py:2: SettingWithCopyWarning: \n",
      "A value is trying to be set on a copy of a slice from a DataFrame.\n",
      "Try using .loc[row_indexer,col_indexer] = value instead\n",
      "\n",
      "See the caveats in the documentation: http://pandas.pydata.org/pandas-docs/stable/user_guide/indexing.html#returning-a-view-versus-a-copy\n",
      "  \n"
     ]
    }
   ],
   "source": [
    "train1[train1.isnull()]=0\n",
    "test1[test1.isnull()]=0"
   ]
  },
  {
   "cell_type": "markdown",
   "metadata": {},
   "source": [
    "### Splitting Train data into train  and test"
   ]
  },
  {
   "cell_type": "code",
   "execution_count": 77,
   "metadata": {},
   "outputs": [],
   "source": [
    "y = train_labels\n",
    "x=train1\n",
    "from sklearn.model_selection import train_test_split\n",
    "x_train , x_test , y_train , y_test = train_test_split(x,y, stratify = y,\n",
    "                                                      test_size =0.25)"
   ]
  },
  {
   "cell_type": "markdown",
   "metadata": {},
   "source": [
    "## Model 1 "
   ]
  },
  {
   "cell_type": "markdown",
   "metadata": {},
   "source": [
    "### Fitting a logistic model with L1 regularisation"
   ]
  },
  {
   "cell_type": "code",
   "execution_count": 107,
   "metadata": {},
   "outputs": [
    {
     "name": "stderr",
     "output_type": "stream",
     "text": [
      "C:\\Users\\91808\\Anaconda3\\lib\\site-packages\\sklearn\\svm\\_base.py:947: ConvergenceWarning: Liblinear failed to converge, increase the number of iterations.\n",
      "  \"the number of iterations.\", ConvergenceWarning)\n"
     ]
    }
   ],
   "source": [
    "GLM = LogisticRegression(C = 0.01,class_weight='balanced',penalty='l1',solver='liblinear')\n",
    "\n",
    "# Fit the model to the training data\n",
    "GLM.fit(x_train, y_train)\n",
    "\n",
    "# Predict on the testing data\n",
    "GLM_pred = GLM.predict_proba(x_test)[:, 1] # use predict_proba to predict probabilities and \n",
    "                                            # [:,1] for the 1 probability output (by default it will save both probabilities, \n",
    "                                                # for value 0 and value 1)"
   ]
  },
  {
   "cell_type": "markdown",
   "metadata": {},
   "source": [
    "#### Predicting the model accuracy"
   ]
  },
  {
   "cell_type": "code",
   "execution_count": 108,
   "metadata": {},
   "outputs": [
    {
     "name": "stdout",
     "output_type": "stream",
     "text": [
      "Logistic accuracy 0.6976638310049689\n"
     ]
    }
   ],
   "source": [
    "logistic_acc = accuracy_score(y_test,GLM_pred.round())\n",
    "print('Logistic accuracy',logistic_acc)"
   ]
  },
  {
   "cell_type": "markdown",
   "metadata": {},
   "source": [
    "#### Creating Confusion matrix"
   ]
  },
  {
   "cell_type": "code",
   "execution_count": 109,
   "metadata": {},
   "outputs": [
    {
     "data": {
      "text/plain": [
       "array([[49419, 21253],\n",
       "       [ 1990,  4216]], dtype=int64)"
      ]
     },
     "execution_count": 109,
     "metadata": {},
     "output_type": "execute_result"
    }
   ],
   "source": [
    "logistic_conf = confusion_matrix(y_test,GLM_pred.round())\n",
    "logistic_conf"
   ]
  },
  {
   "cell_type": "code",
   "execution_count": null,
   "metadata": {},
   "outputs": [],
   "source": []
  },
  {
   "cell_type": "code",
   "execution_count": 81,
   "metadata": {},
   "outputs": [],
   "source": [
    "from sklearn.metrics import classification_report,confusion_matrix,accuracy_score,roc_auc_score"
   ]
  },
  {
   "cell_type": "code",
   "execution_count": 110,
   "metadata": {},
   "outputs": [
    {
     "name": "stdout",
     "output_type": "stream",
     "text": [
      "The AUROC score is: 0.751680934982184\n"
     ]
    }
   ],
   "source": [
    "auc = roc_auc_score(y_test,GLM_pred)\n",
    "print (\"The AUROC score is:\",auc)"
   ]
  },
  {
   "cell_type": "markdown",
   "metadata": {},
   "source": [
    "### Weight of Evidence"
   ]
  },
  {
   "cell_type": "code",
   "execution_count": 111,
   "metadata": {},
   "outputs": [],
   "source": [
    "# import packages\n",
    "import pandas as pd\n",
    "import numpy as np\n",
    "import pandas.core.algorithms as algos\n",
    "from pandas import Series\n",
    "import scipy.stats.stats as stats\n",
    "import re\n",
    "import traceback\n",
    "import string\n",
    "\n",
    "max_bin = 10\n",
    "force_bin = 2\n",
    "\n",
    "# define a binning function\n",
    "def mono_bin(Y, X, n = max_bin):\n",
    "    \n",
    "    df1 = pd.DataFrame({\"X\": X, \"Y\": Y})\n",
    "    justmiss = df1[['X','Y']][df1.X.isnull()]\n",
    "    notmiss = df1[['X','Y']][df1.X.notnull()]\n",
    "    r = 0\n",
    "    while np.abs(r) < 1:\n",
    "        try:\n",
    "            d1 = pd.DataFrame({\"X\": notmiss.X, \"Y\": notmiss.Y, \"Bucket\": pd.qcut(notmiss.X, n)})\n",
    "            d2 = d1.groupby('Bucket', as_index=True)\n",
    "            r, p = stats.spearmanr(d2.mean().X, d2.mean().Y)\n",
    "            n = n - 1 \n",
    "        except Exception as e:\n",
    "            n = n - 1\n",
    "\n",
    "    if len(d2) == 1:\n",
    "        n = force_bin         \n",
    "        bins = algos.quantile(notmiss.X, np.linspace(0, 1, n))\n",
    "        if len(np.unique(bins)) == 2:\n",
    "            bins = np.insert(bins, 0, 1)\n",
    "            bins[1] = bins[1]-(bins[1]/2)\n",
    "        d1 = pd.DataFrame({\"X\": notmiss.X, \"Y\": notmiss.Y, \"Bucket\": pd.cut(notmiss.X, np.unique(bins),include_lowest=True)}) \n",
    "        d2 = d1.groupby('Bucket', as_index=True)\n",
    "    \n",
    "    d3 = pd.DataFrame({},index=[])\n",
    "    d3[\"MIN_VALUE\"] = d2.min().X\n",
    "    d3[\"MAX_VALUE\"] = d2.max().X\n",
    "    d3[\"COUNT\"] = d2.count().Y\n",
    "    d3[\"EVENT\"] = d2.sum().Y\n",
    "    d3[\"NONEVENT\"] = d2.count().Y - d2.sum().Y\n",
    "    d3=d3.reset_index(drop=True)\n",
    "    \n",
    "    if len(justmiss.index) > 0:\n",
    "        d4 = pd.DataFrame({'MIN_VALUE':np.nan},index=[0])\n",
    "        d4[\"MAX_VALUE\"] = np.nan\n",
    "        d4[\"COUNT\"] = justmiss.count().Y\n",
    "        d4[\"EVENT\"] = justmiss.sum().Y\n",
    "        d4[\"NONEVENT\"] = justmiss.count().Y - justmiss.sum().Y\n",
    "        d3 = d3.append(d4,ignore_index=True)\n",
    "    \n",
    "    d3[\"EVENT_RATE\"] = d3.EVENT/d3.COUNT\n",
    "    d3[\"NON_EVENT_RATE\"] = d3.NONEVENT/d3.COUNT\n",
    "    d3[\"DIST_EVENT\"] = d3.EVENT/d3.sum().EVENT\n",
    "    d3[\"DIST_NON_EVENT\"] = d3.NONEVENT/d3.sum().NONEVENT\n",
    "    d3[\"WOE\"] = np.log(d3.DIST_EVENT/d3.DIST_NON_EVENT)\n",
    "    d3[\"IV\"] = (d3.DIST_EVENT-d3.DIST_NON_EVENT)*np.log(d3.DIST_EVENT/d3.DIST_NON_EVENT)\n",
    "    d3[\"VAR_NAME\"] = \"VAR\"\n",
    "    d3 = d3[['VAR_NAME','MIN_VALUE', 'MAX_VALUE', 'COUNT', 'EVENT', 'EVENT_RATE', 'NONEVENT', 'NON_EVENT_RATE', 'DIST_EVENT','DIST_NON_EVENT','WOE', 'IV']]       \n",
    "    d3 = d3.replace([np.inf, -np.inf], 0)\n",
    "    d3.IV = d3.IV.sum()\n",
    "    \n",
    "    return(d3)\n",
    "\n",
    "def char_bin(Y, X):\n",
    "        \n",
    "    df1 = pd.DataFrame({\"X\": X, \"Y\": Y})\n",
    "    justmiss = df1[['X','Y']][df1.X.isnull()]\n",
    "    notmiss = df1[['X','Y']][df1.X.notnull()]    \n",
    "    df2 = notmiss.groupby('X',as_index=True)\n",
    "    \n",
    "    d3 = pd.DataFrame({},index=[])\n",
    "    d3[\"COUNT\"] = df2.count().Y\n",
    "    d3[\"MIN_VALUE\"] = df2.sum().Y.index\n",
    "    d3[\"MAX_VALUE\"] = d3[\"MIN_VALUE\"]\n",
    "    d3[\"EVENT\"] = df2.sum().Y\n",
    "    d3[\"NONEVENT\"] = df2.count().Y - df2.sum().Y\n",
    "    \n",
    "    if len(justmiss.index) > 0:\n",
    "        d4 = pd.DataFrame({'MIN_VALUE':np.nan},index=[0])\n",
    "        d4[\"MAX_VALUE\"] = np.nan\n",
    "        d4[\"COUNT\"] = justmiss.count().Y\n",
    "        d4[\"EVENT\"] = justmiss.sum().Y\n",
    "        d4[\"NONEVENT\"] = justmiss.count().Y - justmiss.sum().Y\n",
    "        d3 = d3.append(d4,ignore_index=True)\n",
    "    \n",
    "    d3[\"EVENT_RATE\"] = d3.EVENT/d3.COUNT\n",
    "    d3[\"NON_EVENT_RATE\"] = d3.NONEVENT/d3.COUNT\n",
    "    d3[\"DIST_EVENT\"] = d3.EVENT/d3.sum().EVENT\n",
    "    d3[\"DIST_NON_EVENT\"] = d3.NONEVENT/d3.sum().NONEVENT\n",
    "    d3[\"WOE\"] = np.log(d3.DIST_EVENT/d3.DIST_NON_EVENT)\n",
    "    d3[\"IV\"] = (d3.DIST_EVENT-d3.DIST_NON_EVENT)*np.log(d3.DIST_EVENT/d3.DIST_NON_EVENT)\n",
    "    d3[\"VAR_NAME\"] = \"VAR\"\n",
    "    d3 = d3[['VAR_NAME','MIN_VALUE', 'MAX_VALUE', 'COUNT', 'EVENT', 'EVENT_RATE', 'NONEVENT', 'NON_EVENT_RATE', 'DIST_EVENT','DIST_NON_EVENT','WOE', 'IV']]      \n",
    "    d3 = d3.replace([np.inf, -np.inf], 0)\n",
    "    d3.IV = d3.IV.sum()\n",
    "    d3 = d3.reset_index(drop=True)\n",
    "    \n",
    "    return(d3)\n",
    "\n",
    "def data_vars(df1, target):\n",
    "    \n",
    "    stack = traceback.extract_stack()\n",
    "    filename, lineno, function_name, code = stack[-2]\n",
    "    vars_name = re.compile(r'\\((.*?)\\).*$').search(code).groups()[0]\n",
    "    final = (re.findall(r\"[\\w']+\", vars_name))[-1]\n",
    "    \n",
    "    x = df1.dtypes.index\n",
    "    count = -1\n",
    "    \n",
    "    for i in x:\n",
    "        if i.upper() not in (final.upper()):\n",
    "            if np.issubdtype(df1[i], np.number) and len(Series.unique(df1[i])) > 2:\n",
    "                conv = mono_bin(target, df1[i])\n",
    "                conv[\"VAR_NAME\"] = i\n",
    "                count = count + 1\n",
    "            else:\n",
    "                conv = char_bin(target, df1[i])\n",
    "                conv[\"VAR_NAME\"] = i            \n",
    "                count = count + 1\n",
    "                \n",
    "            if count == 0:\n",
    "                iv_df = conv\n",
    "            else:\n",
    "                iv_df = iv_df.append(conv,ignore_index=True)\n",
    "    \n",
    "    iv = pd.DataFrame({'IV':iv_df.groupby('VAR_NAME').IV.max()})\n",
    "    iv = iv.reset_index()\n",
    "    return(iv_df,iv)"
   ]
  },
  {
   "cell_type": "code",
   "execution_count": 112,
   "metadata": {},
   "outputs": [
    {
     "name": "stderr",
     "output_type": "stream",
     "text": [
      "C:\\Users\\91808\\Anaconda3\\lib\\site-packages\\pandas\\core\\series.py:856: RuntimeWarning: divide by zero encountered in log\n",
      "  result = getattr(ufunc, method)(*inputs, **kwargs)\n"
     ]
    }
   ],
   "source": [
    "final_iv, IV = data_vars(x_train, y_train)"
   ]
  },
  {
   "cell_type": "markdown",
   "metadata": {},
   "source": [
    "#### The list of important variables are"
   ]
  },
  {
   "cell_type": "code",
   "execution_count": 113,
   "metadata": {},
   "outputs": [
    {
     "data": {
      "text/html": [
       "<div>\n",
       "<style scoped>\n",
       "    .dataframe tbody tr th:only-of-type {\n",
       "        vertical-align: middle;\n",
       "    }\n",
       "\n",
       "    .dataframe tbody tr th {\n",
       "        vertical-align: top;\n",
       "    }\n",
       "\n",
       "    .dataframe thead th {\n",
       "        text-align: right;\n",
       "    }\n",
       "</style>\n",
       "<table border=\"1\" class=\"dataframe\">\n",
       "  <thead>\n",
       "    <tr style=\"text-align: right;\">\n",
       "      <th></th>\n",
       "      <th>VAR_NAME</th>\n",
       "      <th>IV</th>\n",
       "    </tr>\n",
       "  </thead>\n",
       "  <tbody>\n",
       "    <tr>\n",
       "      <th>78</th>\n",
       "      <td>LIVE_CITY_NOT_WORK_CITY</td>\n",
       "      <td>0.012953</td>\n",
       "    </tr>\n",
       "    <tr>\n",
       "      <th>220</th>\n",
       "      <td>PREV_APPL_MEAN_INSTALL_MEAN_AMT_PAYMENT</td>\n",
       "      <td>0.013585</td>\n",
       "    </tr>\n",
       "    <tr>\n",
       "      <th>55</th>\n",
       "      <td>FLAG_DOCUMENT_6</td>\n",
       "      <td>0.013740</td>\n",
       "    </tr>\n",
       "    <tr>\n",
       "      <th>231</th>\n",
       "      <td>PREV_APPL_MEAN_POS_MEAN_SK_DPD_DEF</td>\n",
       "      <td>0.014576</td>\n",
       "    </tr>\n",
       "    <tr>\n",
       "      <th>229</th>\n",
       "      <td>PREV_APPL_MEAN_POS_MEAN_MONTHS_BALANCE</td>\n",
       "      <td>0.014649</td>\n",
       "    </tr>\n",
       "    <tr>\n",
       "      <th>87</th>\n",
       "      <td>NAME_CONTRACT_TYPE_Revolving loans</td>\n",
       "      <td>0.015710</td>\n",
       "    </tr>\n",
       "    <tr>\n",
       "      <th>86</th>\n",
       "      <td>NAME_CONTRACT_TYPE_Cash loans</td>\n",
       "      <td>0.015710</td>\n",
       "    </tr>\n",
       "    <tr>\n",
       "      <th>187</th>\n",
       "      <td>PREV_APPL_MEAN_AMT_ANNUITY</td>\n",
       "      <td>0.016844</td>\n",
       "    </tr>\n",
       "    <tr>\n",
       "      <th>207</th>\n",
       "      <td>PREV_APPL_MEAN_CARD_MEAN_CNT_INSTALMENT_MATURE...</td>\n",
       "      <td>0.019007</td>\n",
       "    </tr>\n",
       "    <tr>\n",
       "      <th>232</th>\n",
       "      <td>PREV_APPL_MEAN_RATE_DOWN_PAYMENT</td>\n",
       "      <td>0.019765</td>\n",
       "    </tr>\n",
       "    <tr>\n",
       "      <th>222</th>\n",
       "      <td>PREV_APPL_MEAN_INSTALL_MEAN_DAYS_INSTALMENT</td>\n",
       "      <td>0.019811</td>\n",
       "    </tr>\n",
       "    <tr>\n",
       "      <th>221</th>\n",
       "      <td>PREV_APPL_MEAN_INSTALL_MEAN_DAYS_ENTRY_PAYMENT</td>\n",
       "      <td>0.020249</td>\n",
       "    </tr>\n",
       "    <tr>\n",
       "      <th>216</th>\n",
       "      <td>PREV_APPL_MEAN_DAYS_LAST_DUE_1ST_VERSION</td>\n",
       "      <td>0.022546</td>\n",
       "    </tr>\n",
       "    <tr>\n",
       "      <th>247</th>\n",
       "      <td>REG_CITY_NOT_LIVE_CITY</td>\n",
       "      <td>0.022703</td>\n",
       "    </tr>\n",
       "    <tr>\n",
       "      <th>206</th>\n",
       "      <td>PREV_APPL_MEAN_CARD_MEAN_CNT_DRAWINGS_POS_CURRENT</td>\n",
       "      <td>0.023803</td>\n",
       "    </tr>\n",
       "    <tr>\n",
       "      <th>27</th>\n",
       "      <td>DAYS_REGISTRATION</td>\n",
       "      <td>0.024045</td>\n",
       "    </tr>\n",
       "    <tr>\n",
       "      <th>199</th>\n",
       "      <td>PREV_APPL_MEAN_CARD_MEAN_AMT_PAYMENT_TOTAL_CUR...</td>\n",
       "      <td>0.025067</td>\n",
       "    </tr>\n",
       "    <tr>\n",
       "      <th>245</th>\n",
       "      <td>REGION_RATING_CLIENT</td>\n",
       "      <td>0.025501</td>\n",
       "    </tr>\n",
       "    <tr>\n",
       "      <th>198</th>\n",
       "      <td>PREV_APPL_MEAN_CARD_MEAN_AMT_INST_MIN_REGULARITY</td>\n",
       "      <td>0.026100</td>\n",
       "    </tr>\n",
       "    <tr>\n",
       "      <th>195</th>\n",
       "      <td>PREV_APPL_MEAN_CARD_MEAN_AMT_DRAWINGS_CURRENT</td>\n",
       "      <td>0.026451</td>\n",
       "    </tr>\n",
       "    <tr>\n",
       "      <th>202</th>\n",
       "      <td>PREV_APPL_MEAN_CARD_MEAN_AMT_TOTAL_RECEIVABLE</td>\n",
       "      <td>0.026788</td>\n",
       "    </tr>\n",
       "    <tr>\n",
       "      <th>201</th>\n",
       "      <td>PREV_APPL_MEAN_CARD_MEAN_AMT_RECIVABLE</td>\n",
       "      <td>0.026792</td>\n",
       "    </tr>\n",
       "    <tr>\n",
       "      <th>200</th>\n",
       "      <td>PREV_APPL_MEAN_CARD_MEAN_AMT_RECEIVABLE_PRINCIPAL</td>\n",
       "      <td>0.026956</td>\n",
       "    </tr>\n",
       "    <tr>\n",
       "      <th>192</th>\n",
       "      <td>PREV_APPL_MEAN_CARD_MEAN_AMT_BALANCE</td>\n",
       "      <td>0.027106</td>\n",
       "    </tr>\n",
       "    <tr>\n",
       "      <th>246</th>\n",
       "      <td>REGION_RATING_CLIENT_W_CITY</td>\n",
       "      <td>0.027312</td>\n",
       "    </tr>\n",
       "    <tr>\n",
       "      <th>197</th>\n",
       "      <td>PREV_APPL_MEAN_CARD_MEAN_AMT_DRAWINGS_POS_CURRENT</td>\n",
       "      <td>0.027825</td>\n",
       "    </tr>\n",
       "    <tr>\n",
       "      <th>214</th>\n",
       "      <td>PREV_APPL_MEAN_DAYS_FIRST_DUE</td>\n",
       "      <td>0.028706</td>\n",
       "    </tr>\n",
       "    <tr>\n",
       "      <th>194</th>\n",
       "      <td>PREV_APPL_MEAN_CARD_MEAN_AMT_DRAWINGS_ATM_CURRENT</td>\n",
       "      <td>0.029328</td>\n",
       "    </tr>\n",
       "    <tr>\n",
       "      <th>52</th>\n",
       "      <td>FLAG_DOCUMENT_3</td>\n",
       "      <td>0.029761</td>\n",
       "    </tr>\n",
       "    <tr>\n",
       "      <th>212</th>\n",
       "      <td>PREV_APPL_MEAN_DAYS_DECISION</td>\n",
       "      <td>0.029868</td>\n",
       "    </tr>\n",
       "    <tr>\n",
       "      <th>203</th>\n",
       "      <td>PREV_APPL_MEAN_CARD_MEAN_CNT_DRAWINGS_ATM_CURRENT</td>\n",
       "      <td>0.030044</td>\n",
       "    </tr>\n",
       "    <tr>\n",
       "      <th>248</th>\n",
       "      <td>REG_CITY_NOT_WORK_CITY</td>\n",
       "      <td>0.032590</td>\n",
       "    </tr>\n",
       "    <tr>\n",
       "      <th>60</th>\n",
       "      <td>FLAG_EMP_PHONE</td>\n",
       "      <td>0.035192</td>\n",
       "    </tr>\n",
       "    <tr>\n",
       "      <th>183</th>\n",
       "      <td>ORGANIZATION_TYPE_XNA</td>\n",
       "      <td>0.035218</td>\n",
       "    </tr>\n",
       "    <tr>\n",
       "      <th>106</th>\n",
       "      <td>NAME_INCOME_TYPE_Pensioner</td>\n",
       "      <td>0.035577</td>\n",
       "    </tr>\n",
       "    <tr>\n",
       "      <th>92</th>\n",
       "      <td>NAME_EDUCATION_TYPE_Secondary / secondary special</td>\n",
       "      <td>0.036964</td>\n",
       "    </tr>\n",
       "    <tr>\n",
       "      <th>24</th>\n",
       "      <td>DAYS_EMPLOYED</td>\n",
       "      <td>0.038071</td>\n",
       "    </tr>\n",
       "    <tr>\n",
       "      <th>19</th>\n",
       "      <td>CODE_GENDER_M</td>\n",
       "      <td>0.040233</td>\n",
       "    </tr>\n",
       "    <tr>\n",
       "      <th>18</th>\n",
       "      <td>CODE_GENDER_F</td>\n",
       "      <td>0.040233</td>\n",
       "    </tr>\n",
       "    <tr>\n",
       "      <th>25</th>\n",
       "      <td>DAYS_ID_PUBLISH</td>\n",
       "      <td>0.042051</td>\n",
       "    </tr>\n",
       "    <tr>\n",
       "      <th>204</th>\n",
       "      <td>PREV_APPL_MEAN_CARD_MEAN_CNT_DRAWINGS_CURRENT</td>\n",
       "      <td>0.042585</td>\n",
       "    </tr>\n",
       "    <tr>\n",
       "      <th>26</th>\n",
       "      <td>DAYS_LAST_PHONE_CHANGE</td>\n",
       "      <td>0.045039</td>\n",
       "    </tr>\n",
       "    <tr>\n",
       "      <th>110</th>\n",
       "      <td>NAME_INCOME_TYPE_Working</td>\n",
       "      <td>0.047397</td>\n",
       "    </tr>\n",
       "    <tr>\n",
       "      <th>89</th>\n",
       "      <td>NAME_EDUCATION_TYPE_Higher education</td>\n",
       "      <td>0.049624</td>\n",
       "    </tr>\n",
       "    <tr>\n",
       "      <th>242</th>\n",
       "      <td>PREV_BUR_MEAN_DAYS_CREDIT_ENDDATE</td>\n",
       "      <td>0.056103</td>\n",
       "    </tr>\n",
       "    <tr>\n",
       "      <th>243</th>\n",
       "      <td>PREV_BUR_MEAN_DAYS_CREDIT_UPDATE</td>\n",
       "      <td>0.084871</td>\n",
       "    </tr>\n",
       "    <tr>\n",
       "      <th>23</th>\n",
       "      <td>DAYS_BIRTH</td>\n",
       "      <td>0.086564</td>\n",
       "    </tr>\n",
       "    <tr>\n",
       "      <th>241</th>\n",
       "      <td>PREV_BUR_MEAN_DAYS_CREDIT</td>\n",
       "      <td>0.107330</td>\n",
       "    </tr>\n",
       "    <tr>\n",
       "      <th>36</th>\n",
       "      <td>EXT_SOURCE_2</td>\n",
       "      <td>0.304791</td>\n",
       "    </tr>\n",
       "    <tr>\n",
       "      <th>37</th>\n",
       "      <td>EXT_SOURCE_3</td>\n",
       "      <td>0.305051</td>\n",
       "    </tr>\n",
       "  </tbody>\n",
       "</table>\n",
       "</div>"
      ],
      "text/plain": [
       "                                              VAR_NAME        IV\n",
       "78                             LIVE_CITY_NOT_WORK_CITY  0.012953\n",
       "220            PREV_APPL_MEAN_INSTALL_MEAN_AMT_PAYMENT  0.013585\n",
       "55                                     FLAG_DOCUMENT_6  0.013740\n",
       "231                 PREV_APPL_MEAN_POS_MEAN_SK_DPD_DEF  0.014576\n",
       "229             PREV_APPL_MEAN_POS_MEAN_MONTHS_BALANCE  0.014649\n",
       "87                  NAME_CONTRACT_TYPE_Revolving loans  0.015710\n",
       "86                       NAME_CONTRACT_TYPE_Cash loans  0.015710\n",
       "187                         PREV_APPL_MEAN_AMT_ANNUITY  0.016844\n",
       "207  PREV_APPL_MEAN_CARD_MEAN_CNT_INSTALMENT_MATURE...  0.019007\n",
       "232                   PREV_APPL_MEAN_RATE_DOWN_PAYMENT  0.019765\n",
       "222        PREV_APPL_MEAN_INSTALL_MEAN_DAYS_INSTALMENT  0.019811\n",
       "221     PREV_APPL_MEAN_INSTALL_MEAN_DAYS_ENTRY_PAYMENT  0.020249\n",
       "216           PREV_APPL_MEAN_DAYS_LAST_DUE_1ST_VERSION  0.022546\n",
       "247                             REG_CITY_NOT_LIVE_CITY  0.022703\n",
       "206  PREV_APPL_MEAN_CARD_MEAN_CNT_DRAWINGS_POS_CURRENT  0.023803\n",
       "27                                   DAYS_REGISTRATION  0.024045\n",
       "199  PREV_APPL_MEAN_CARD_MEAN_AMT_PAYMENT_TOTAL_CUR...  0.025067\n",
       "245                               REGION_RATING_CLIENT  0.025501\n",
       "198   PREV_APPL_MEAN_CARD_MEAN_AMT_INST_MIN_REGULARITY  0.026100\n",
       "195      PREV_APPL_MEAN_CARD_MEAN_AMT_DRAWINGS_CURRENT  0.026451\n",
       "202      PREV_APPL_MEAN_CARD_MEAN_AMT_TOTAL_RECEIVABLE  0.026788\n",
       "201             PREV_APPL_MEAN_CARD_MEAN_AMT_RECIVABLE  0.026792\n",
       "200  PREV_APPL_MEAN_CARD_MEAN_AMT_RECEIVABLE_PRINCIPAL  0.026956\n",
       "192               PREV_APPL_MEAN_CARD_MEAN_AMT_BALANCE  0.027106\n",
       "246                        REGION_RATING_CLIENT_W_CITY  0.027312\n",
       "197  PREV_APPL_MEAN_CARD_MEAN_AMT_DRAWINGS_POS_CURRENT  0.027825\n",
       "214                      PREV_APPL_MEAN_DAYS_FIRST_DUE  0.028706\n",
       "194  PREV_APPL_MEAN_CARD_MEAN_AMT_DRAWINGS_ATM_CURRENT  0.029328\n",
       "52                                     FLAG_DOCUMENT_3  0.029761\n",
       "212                       PREV_APPL_MEAN_DAYS_DECISION  0.029868\n",
       "203  PREV_APPL_MEAN_CARD_MEAN_CNT_DRAWINGS_ATM_CURRENT  0.030044\n",
       "248                             REG_CITY_NOT_WORK_CITY  0.032590\n",
       "60                                      FLAG_EMP_PHONE  0.035192\n",
       "183                              ORGANIZATION_TYPE_XNA  0.035218\n",
       "106                         NAME_INCOME_TYPE_Pensioner  0.035577\n",
       "92   NAME_EDUCATION_TYPE_Secondary / secondary special  0.036964\n",
       "24                                       DAYS_EMPLOYED  0.038071\n",
       "19                                       CODE_GENDER_M  0.040233\n",
       "18                                       CODE_GENDER_F  0.040233\n",
       "25                                     DAYS_ID_PUBLISH  0.042051\n",
       "204      PREV_APPL_MEAN_CARD_MEAN_CNT_DRAWINGS_CURRENT  0.042585\n",
       "26                              DAYS_LAST_PHONE_CHANGE  0.045039\n",
       "110                           NAME_INCOME_TYPE_Working  0.047397\n",
       "89                NAME_EDUCATION_TYPE_Higher education  0.049624\n",
       "242                  PREV_BUR_MEAN_DAYS_CREDIT_ENDDATE  0.056103\n",
       "243                   PREV_BUR_MEAN_DAYS_CREDIT_UPDATE  0.084871\n",
       "23                                          DAYS_BIRTH  0.086564\n",
       "241                          PREV_BUR_MEAN_DAYS_CREDIT  0.107330\n",
       "36                                        EXT_SOURCE_2  0.304791\n",
       "37                                        EXT_SOURCE_3  0.305051"
      ]
     },
     "execution_count": 113,
     "metadata": {},
     "output_type": "execute_result"
    }
   ],
   "source": [
    "IV.sort_values('IV',ascending='F').tail(50)"
   ]
  },
  {
   "cell_type": "code",
   "execution_count": 114,
   "metadata": {},
   "outputs": [],
   "source": [
    "variables=IV.sort_values('IV',ascending='F').tail(50)"
   ]
  },
  {
   "cell_type": "code",
   "execution_count": 115,
   "metadata": {},
   "outputs": [],
   "source": [
    " lt_V15=list(variables['VAR_NAME'])"
   ]
  },
  {
   "cell_type": "code",
   "execution_count": null,
   "metadata": {},
   "outputs": [],
   "source": []
  },
  {
   "cell_type": "markdown",
   "metadata": {},
   "source": [
    "## Model 2"
   ]
  },
  {
   "cell_type": "markdown",
   "metadata": {},
   "source": [
    "### Logistic Model with top 50 variables"
   ]
  },
  {
   "cell_type": "code",
   "execution_count": 116,
   "metadata": {},
   "outputs": [],
   "source": [
    "x_train_15 = x_train[lt_V15]"
   ]
  },
  {
   "cell_type": "code",
   "execution_count": 117,
   "metadata": {},
   "outputs": [],
   "source": [
    "x_test_15=x_test[lt_V15]"
   ]
  },
  {
   "cell_type": "code",
   "execution_count": 118,
   "metadata": {},
   "outputs": [
    {
     "name": "stderr",
     "output_type": "stream",
     "text": [
      "C:\\Users\\91808\\Anaconda3\\lib\\site-packages\\sklearn\\svm\\_base.py:947: ConvergenceWarning: Liblinear failed to converge, increase the number of iterations.\n",
      "  \"the number of iterations.\", ConvergenceWarning)\n"
     ]
    }
   ],
   "source": [
    "GLM = LogisticRegression(C = 0.01,class_weight='balanced',penalty='l1',solver='liblinear')\n",
    "\n",
    "# Fit the model to the training data\n",
    "GLM.fit(x_train_15, y_train)\n",
    "\n",
    "# Predict on the testing data\n",
    "GLM_pred = GLM.predict_proba(x_test_15)[:, 1]"
   ]
  },
  {
   "cell_type": "code",
   "execution_count": 119,
   "metadata": {},
   "outputs": [],
   "source": [
    "pre=GLM.predict_proba(x_test_15)[:, 1]"
   ]
  },
  {
   "cell_type": "code",
   "execution_count": 120,
   "metadata": {},
   "outputs": [],
   "source": [
    "datfr=pd.DataFrame(y_test)\n",
    "datfr['Pred']=pre\n",
    "datfr.to_csv(\"conco.csv\") # Concordance is been done on R"
   ]
  },
  {
   "cell_type": "markdown",
   "metadata": {},
   "source": [
    "#### The accuracy of the model"
   ]
  },
  {
   "cell_type": "code",
   "execution_count": 121,
   "metadata": {},
   "outputs": [
    {
     "name": "stdout",
     "output_type": "stream",
     "text": [
      "Logistic accuracy 0.6859829860298134\n"
     ]
    }
   ],
   "source": [
    "logistic_acc = accuracy_score(y_test,GLM_pred.round())\n",
    "print('Logistic accuracy',logistic_acc)"
   ]
  },
  {
   "cell_type": "markdown",
   "metadata": {},
   "source": [
    "#### The AUROC value"
   ]
  },
  {
   "cell_type": "code",
   "execution_count": 122,
   "metadata": {},
   "outputs": [
    {
     "name": "stdout",
     "output_type": "stream",
     "text": [
      "The AUROC value for the model is: 0.7363260674140744\n"
     ]
    }
   ],
   "source": [
    "auc = roc_auc_score(y_test,GLM_pred)\n",
    "print(\"The AUROC value for the model is:\",auc)"
   ]
  },
  {
   "cell_type": "markdown",
   "metadata": {},
   "source": [
    " "
   ]
  },
  {
   "cell_type": "markdown",
   "metadata": {},
   "source": [
    " "
   ]
  },
  {
   "cell_type": "markdown",
   "metadata": {},
   "source": [
    " "
   ]
  },
  {
   "cell_type": "markdown",
   "metadata": {},
   "source": [
    "### Creating AUROC curve for the model"
   ]
  },
  {
   "cell_type": "code",
   "execution_count": 98,
   "metadata": {},
   "outputs": [],
   "source": [
    "from sklearn import metrics"
   ]
  },
  {
   "cell_type": "code",
   "execution_count": 99,
   "metadata": {},
   "outputs": [],
   "source": [
    "def draw_roc(actual,probs):\n",
    "    fpr,tpr,thresholds = metrics.roc_curve(actual,probs,drop_intermediate=False)\n",
    "    \n",
    "    auc_score = metrics.roc_auc_score(actual,probs)\n",
    "    plt.figure(figsize = (8,6))\n",
    "    plt.plot(fpr,tpr,label='ROC curve (area = %0.2f)' %auc_score)\n",
    "    plt.plot([0,1],[0,1],'k--')\n",
    "    plt.xlim([0.0,1.0])\n",
    "    plt.ylim([0.0,1.05])\n",
    "    \n",
    "    plt.xlabel('FPR')\n",
    "    plt.ylabel('TPR')\n",
    "    plt.legend(loc = \"lower right\")\n",
    "    plt.show()\n",
    "    \n",
    "    return fpr, tpr, thresholds"
   ]
  },
  {
   "cell_type": "code",
   "execution_count": 123,
   "metadata": {},
   "outputs": [
    {
     "data": {
      "image/png": "[encoded data removed]",
      "text/plain": [
       "<Figure size 576x432 with 1 Axes>"
      ]
     },
     "metadata": {
      "needs_background": "light"
     },
     "output_type": "display_data"
    },
    {
     "data": {
      "text/plain": [
       "(array([0.00000000e+00, 1.41498755e-05, 2.82997510e-05, ...,\n",
       "        9.99971700e-01, 9.99985850e-01, 1.00000000e+00]),\n",
       " array([0., 0., 0., ..., 1., 1., 1.]),\n",
       " array([2.        , 1.        , 0.99996222, ..., 0.0235246 , 0.01628479,\n",
       "        0.00348448]))"
      ]
     },
     "execution_count": 123,
     "metadata": {},
     "output_type": "execute_result"
    }
   ],
   "source": [
    "draw_roc(y_test, pre)"
   ]
  },
  {
   "cell_type": "code",
   "execution_count": null,
   "metadata": {},
   "outputs": [],
   "source": []
  },
  {
   "cell_type": "code",
   "execution_count": 124,
   "metadata": {},
   "outputs": [
    {
     "data": {
      "text/plain": [
       "array([0.61391028, 0.25932971, 0.42081965, ..., 0.3904478 , 0.49796301,\n",
       "       0.66432509])"
      ]
     },
     "execution_count": 124,
     "metadata": {},
     "output_type": "execute_result"
    }
   ],
   "source": [
    "GLM_pred"
   ]
  },
  {
   "cell_type": "code",
   "execution_count": 125,
   "metadata": {},
   "outputs": [
    {
     "data": {
      "text/html": [
       "<div>\n",
       "<style scoped>\n",
       "    .dataframe tbody tr th:only-of-type {\n",
       "        vertical-align: middle;\n",
       "    }\n",
       "\n",
       "    .dataframe tbody tr th {\n",
       "        vertical-align: top;\n",
       "    }\n",
       "\n",
       "    .dataframe thead th {\n",
       "        text-align: right;\n",
       "    }\n",
       "</style>\n",
       "<table border=\"1\" class=\"dataframe\">\n",
       "  <thead>\n",
       "    <tr style=\"text-align: right;\">\n",
       "      <th></th>\n",
       "      <th>Pred</th>\n",
       "    </tr>\n",
       "  </thead>\n",
       "  <tbody>\n",
       "    <tr>\n",
       "      <th>0</th>\n",
       "      <td>0.613910</td>\n",
       "    </tr>\n",
       "    <tr>\n",
       "      <th>1</th>\n",
       "      <td>0.259330</td>\n",
       "    </tr>\n",
       "    <tr>\n",
       "      <th>2</th>\n",
       "      <td>0.420820</td>\n",
       "    </tr>\n",
       "    <tr>\n",
       "      <th>3</th>\n",
       "      <td>0.431841</td>\n",
       "    </tr>\n",
       "    <tr>\n",
       "      <th>4</th>\n",
       "      <td>0.604668</td>\n",
       "    </tr>\n",
       "    <tr>\n",
       "      <th>...</th>\n",
       "      <td>...</td>\n",
       "    </tr>\n",
       "    <tr>\n",
       "      <th>76873</th>\n",
       "      <td>0.302705</td>\n",
       "    </tr>\n",
       "    <tr>\n",
       "      <th>76874</th>\n",
       "      <td>0.291920</td>\n",
       "    </tr>\n",
       "    <tr>\n",
       "      <th>76875</th>\n",
       "      <td>0.390448</td>\n",
       "    </tr>\n",
       "    <tr>\n",
       "      <th>76876</th>\n",
       "      <td>0.497963</td>\n",
       "    </tr>\n",
       "    <tr>\n",
       "      <th>76877</th>\n",
       "      <td>0.664325</td>\n",
       "    </tr>\n",
       "  </tbody>\n",
       "</table>\n",
       "<p>76878 rows × 1 columns</p>\n",
       "</div>"
      ],
      "text/plain": [
       "           Pred\n",
       "0      0.613910\n",
       "1      0.259330\n",
       "2      0.420820\n",
       "3      0.431841\n",
       "4      0.604668\n",
       "...         ...\n",
       "76873  0.302705\n",
       "76874  0.291920\n",
       "76875  0.390448\n",
       "76876  0.497963\n",
       "76877  0.664325\n",
       "\n",
       "[76878 rows x 1 columns]"
      ]
     },
     "execution_count": 125,
     "metadata": {},
     "output_type": "execute_result"
    }
   ],
   "source": [
    "df=pd.DataFrame(GLM_pred)\n",
    "df.columns=[\"Pred\"]\n",
    "df"
   ]
  },
  {
   "cell_type": "code",
   "execution_count": 126,
   "metadata": {},
   "outputs": [
    {
     "data": {
      "text/html": [
       "<div>\n",
       "<style scoped>\n",
       "    .dataframe tbody tr th:only-of-type {\n",
       "        vertical-align: middle;\n",
       "    }\n",
       "\n",
       "    .dataframe tbody tr th {\n",
       "        vertical-align: top;\n",
       "    }\n",
       "\n",
       "    .dataframe thead th {\n",
       "        text-align: right;\n",
       "    }\n",
       "</style>\n",
       "<table border=\"1\" class=\"dataframe\">\n",
       "  <thead>\n",
       "    <tr style=\"text-align: right;\">\n",
       "      <th></th>\n",
       "      <th>Pred</th>\n",
       "      <th>predicted</th>\n",
       "    </tr>\n",
       "  </thead>\n",
       "  <tbody>\n",
       "    <tr>\n",
       "      <th>0</th>\n",
       "      <td>0.613910</td>\n",
       "      <td>1</td>\n",
       "    </tr>\n",
       "    <tr>\n",
       "      <th>1</th>\n",
       "      <td>0.259330</td>\n",
       "      <td>0</td>\n",
       "    </tr>\n",
       "    <tr>\n",
       "      <th>2</th>\n",
       "      <td>0.420820</td>\n",
       "      <td>0</td>\n",
       "    </tr>\n",
       "    <tr>\n",
       "      <th>3</th>\n",
       "      <td>0.431841</td>\n",
       "      <td>0</td>\n",
       "    </tr>\n",
       "    <tr>\n",
       "      <th>4</th>\n",
       "      <td>0.604668</td>\n",
       "      <td>1</td>\n",
       "    </tr>\n",
       "    <tr>\n",
       "      <th>...</th>\n",
       "      <td>...</td>\n",
       "      <td>...</td>\n",
       "    </tr>\n",
       "    <tr>\n",
       "      <th>76873</th>\n",
       "      <td>0.302705</td>\n",
       "      <td>0</td>\n",
       "    </tr>\n",
       "    <tr>\n",
       "      <th>76874</th>\n",
       "      <td>0.291920</td>\n",
       "      <td>0</td>\n",
       "    </tr>\n",
       "    <tr>\n",
       "      <th>76875</th>\n",
       "      <td>0.390448</td>\n",
       "      <td>0</td>\n",
       "    </tr>\n",
       "    <tr>\n",
       "      <th>76876</th>\n",
       "      <td>0.497963</td>\n",
       "      <td>0</td>\n",
       "    </tr>\n",
       "    <tr>\n",
       "      <th>76877</th>\n",
       "      <td>0.664325</td>\n",
       "      <td>1</td>\n",
       "    </tr>\n",
       "  </tbody>\n",
       "</table>\n",
       "<p>76878 rows × 2 columns</p>\n",
       "</div>"
      ],
      "text/plain": [
       "           Pred  predicted\n",
       "0      0.613910          1\n",
       "1      0.259330          0\n",
       "2      0.420820          0\n",
       "3      0.431841          0\n",
       "4      0.604668          1\n",
       "...         ...        ...\n",
       "76873  0.302705          0\n",
       "76874  0.291920          0\n",
       "76875  0.390448          0\n",
       "76876  0.497963          0\n",
       "76877  0.664325          1\n",
       "\n",
       "[76878 rows x 2 columns]"
      ]
     },
     "execution_count": 126,
     "metadata": {},
     "output_type": "execute_result"
    }
   ],
   "source": [
    "df['predicted'] = df.Pred.map(lambda x:1 if x>0.55 else 0)"
   ]
  },
  {
   "cell_type": "code",
   "execution_count": 136,
   "metadata": {},
   "outputs": [],
   "source": [
    "df['TARGET']=y_test"
   ]
  },
  {
   "cell_type": "markdown",
   "metadata": {},
   "source": [
    "### The F-1 score of the model"
   ]
  },
  {
   "cell_type": "code",
   "execution_count": 127,
   "metadata": {},
   "outputs": [
    {
     "name": "stdout",
     "output_type": "stream",
     "text": [
      "              precision    recall  f1-score   support\n",
      "\n",
      "           0       0.95      0.76      0.85     70672\n",
      "           1       0.18      0.58      0.27      6206\n",
      "\n",
      "    accuracy                           0.75     76878\n",
      "   macro avg       0.56      0.67      0.56     76878\n",
      "weighted avg       0.89      0.75      0.80     76878\n",
      "\n"
     ]
    }
   ],
   "source": [
    "from sklearn.metrics import classification_report\n",
    "print(classification_report(y_test, df.predicted))"
   ]
  },
  {
   "cell_type": "code",
   "execution_count": 128,
   "metadata": {},
   "outputs": [
    {
     "data": {
      "text/plain": [
       "array([[53816, 16856],\n",
       "       [ 2625,  3581]], dtype=int64)"
      ]
     },
     "execution_count": 128,
     "metadata": {},
     "output_type": "execute_result"
    }
   ],
   "source": [
    "logistic_conf = confusion_matrix(y_test,df.predicted, [0,1])\n",
    "logistic_conf"
   ]
  },
  {
   "cell_type": "code",
   "execution_count": null,
   "metadata": {},
   "outputs": [],
   "source": []
  },
  {
   "cell_type": "code",
   "execution_count": null,
   "metadata": {},
   "outputs": [],
   "source": []
  },
  {
   "cell_type": "code",
   "execution_count": 129,
   "metadata": {},
   "outputs": [],
   "source": [
    "test_s=test1[lt_V15]"
   ]
  },
  {
   "cell_type": "code",
   "execution_count": 130,
   "metadata": {},
   "outputs": [],
   "source": [
    "GLM_pred_test = GLM.predict_proba(test_s)[:, 1]"
   ]
  },
  {
   "cell_type": "code",
   "execution_count": 131,
   "metadata": {},
   "outputs": [
    {
     "data": {
      "text/plain": [
       "array([0.40875325, 0.73282457, 0.2037797 , ..., 0.51294862, 0.3603281 ,\n",
       "       0.71583837])"
      ]
     },
     "execution_count": 131,
     "metadata": {},
     "output_type": "execute_result"
    }
   ],
   "source": [
    "GLM_pred_test"
   ]
  },
  {
   "cell_type": "code",
   "execution_count": 132,
   "metadata": {},
   "outputs": [],
   "source": [
    "d=test1['SK_ID_CURR']\n",
    "d =pd.DataFrame(d)"
   ]
  },
  {
   "cell_type": "code",
   "execution_count": 133,
   "metadata": {},
   "outputs": [],
   "source": [
    "d['TARGET']=GLM_pred_test"
   ]
  },
  {
   "cell_type": "code",
   "execution_count": 134,
   "metadata": {},
   "outputs": [],
   "source": [
    "d.to_csv('sample_submission.csv')"
   ]
  },
  {
   "cell_type": "code",
   "execution_count": null,
   "metadata": {},
   "outputs": [],
   "source": [
    "os.getcwd()"
   ]
  },
  {
   "cell_type": "code",
   "execution_count": null,
   "metadata": {},
   "outputs": [],
   "source": []
  },
  {
   "cell_type": "code",
   "execution_count": null,
   "metadata": {},
   "outputs": [],
   "source": []
  },
  {
   "cell_type": "code",
   "execution_count": null,
   "metadata": {},
   "outputs": [],
   "source": []
  },
  {
   "cell_type": "code",
   "execution_count": null,
   "metadata": {},
   "outputs": [],
   "source": []
  },
  {
   "cell_type": "code",
   "execution_count": 140,
   "metadata": {},
   "outputs": [],
   "source": [
    "conc =pd.DataFrame(y_test)"
   ]
  },
  {
   "cell_type": "code",
   "execution_count": 142,
   "metadata": {},
   "outputs": [],
   "source": [
    "conc[\"Pred\"]=GLM_pred"
   ]
  },
  {
   "cell_type": "code",
   "execution_count": 144,
   "metadata": {},
   "outputs": [],
   "source": [
    "conc.to_csv('conc.csv')"
   ]
  }
 ],
 "metadata": {
  "kernelspec": {
   "display_name": "Python 3",
   "language": "python",
   "name": "python3"
  },
  "language_info": {
   "codemirror_mode": {
    "name": "ipython",
    "version": 3
   },
   "file_extension": ".py",
   "mimetype": "text/x-python",
   "name": "python",
   "nbconvert_exporter": "python",
   "pygments_lexer": "ipython3",
   "version": "3.7.6"
  }
 },
 "nbformat": 4,
 "nbformat_minor": 4
}
